{
 "cells": [
  {
   "attachments": {},
   "cell_type": "markdown",
   "metadata": {},
   "source": [
    "This Kaggle competition is about classifying texts. It is an excellent introduction to Natural Language Processing (NLP). \n",
    "\n",
    "Twitter has become an important communication channel in times of emergency.\n",
    "The ubiquitousness of smartphones enables people to announce an emergency they’re observing in real-time. Because of this, more agencies are interested in programatically monitoring Twitter (i.e. disaster relief organizations and news agencies).  \n",
    "\n",
    "But, it’s not always clear whether a person’s words are actually announcing a disaster.In this competition, you’re challenged to build a machine learning model that predicts which Tweets are about real disasters and which one’s aren’t. You’ll have access to a dataset of 10,000 tweets that were hand classified. If this is your first time working on an NLP problem, we've created a quick tutorial to get you up and running.\n",
    "\n",
    "Disclaimer: The dataset for this competition contains text that may be considered profane, vulgar, or offensive.\n"
   ]
  },
  {
   "attachments": {},
   "cell_type": "markdown",
   "metadata": {},
   "source": [
    "**Brief description of the problem and data (5 pts)**\n",
    "\n",
    "The goal is to build a model that correctly differentiates between real and non-real disasters through the data set of 10,000 tweets. "
   ]
  },
  {
   "cell_type": "code",
   "execution_count": 254,
   "metadata": {},
   "outputs": [
    {
     "name": "stderr",
     "output_type": "stream",
     "text": [
      "[nltk_data] Downloading package stopwords to /Users/kgb/nltk_data...\n",
      "[nltk_data]   Package stopwords is already up-to-date!\n",
      "[nltk_data] Downloading package punkt to /Users/kgb/nltk_data...\n",
      "[nltk_data]   Package punkt is already up-to-date!\n",
      "[nltk_data] Downloading package wordnet to /Users/kgb/nltk_data...\n",
      "[nltk_data]   Package wordnet is already up-to-date!\n"
     ]
    },
    {
     "data": {
      "text/plain": [
       "True"
      ]
     },
     "execution_count": 254,
     "metadata": {},
     "output_type": "execute_result"
    }
   ],
   "source": [
    "import numpy as np\n",
    "import pandas as pd\n",
    "import seaborn as sns\n",
    "import matplotlib.pyplot as plt\n",
    "\n",
    "import re, string, unicodedata\n",
    "\n",
    "from tensorflow.keras.callbacks import ModelCheckpoint\n",
    "\n",
    "from collections import Counter                                           # count the key-value pairs in an object\n",
    "#!pip install contractions\n",
    "import contractions                                     # Import contractions library.\n",
    "\n",
    "from bs4 import BeautifulSoup\n",
    "\n",
    "from wordcloud import WordCloud, STOPWORDS, ImageColorGenerator           # Used for plotting the wordcloud of a corpus\n",
    "\n",
    "import nltk                                                               # Used for different task of NLP\n",
    "from nltk.corpus import stopwords\n",
    "from nltk.stem import WordNetLemmatizer                                 # Used for removal of stop words\n",
    "import warnings                                                           \n",
    "warnings.filterwarnings(\"ignore\")\n",
    "from nltk.stem.porter import PorterStemmer                                #Used for Stemming of words in the corpus\n",
    "nltk.download('stopwords')                              # Download Stopwords.\n",
    "nltk.download('punkt')\n",
    "nltk.download('wordnet')"
   ]
  },
  {
   "cell_type": "code",
   "execution_count": 255,
   "metadata": {},
   "outputs": [],
   "source": [
    "# read files\n",
    "train = pd.read_csv('train.csv')\n",
    "test = pd.read_csv('test.csv')\n"
   ]
  },
  {
   "attachments": {},
   "cell_type": "markdown",
   "metadata": {},
   "source": [
    "**Exploratory Data Analysis (EDA) — Inspect, Visualize and Clean the Data (15 pts)**\n",
    "\n",
    "Show a few visualizations like histograms. Describe any data cleaning procedures. Based on your EDA, what is your plan of analysis? "
   ]
  },
  {
   "cell_type": "code",
   "execution_count": 256,
   "metadata": {},
   "outputs": [
    {
     "name": "stdout",
     "output_type": "stream",
     "text": [
      "<class 'pandas.core.frame.DataFrame'>\n",
      "RangeIndex: 7613 entries, 0 to 7612\n",
      "Data columns (total 5 columns):\n",
      " #   Column    Non-Null Count  Dtype \n",
      "---  ------    --------------  ----- \n",
      " 0   id        7613 non-null   int64 \n",
      " 1   keyword   7552 non-null   object\n",
      " 2   location  5080 non-null   object\n",
      " 3   text      7613 non-null   object\n",
      " 4   target    7613 non-null   int64 \n",
      "dtypes: int64(2), object(3)\n",
      "memory usage: 297.5+ KB\n"
     ]
    }
   ],
   "source": [
    "# Get the information of the training data\n",
    "train.info()"
   ]
  },
  {
   "attachments": {},
   "cell_type": "markdown",
   "metadata": {},
   "source": [
    "There are total 7613 tweets. THere are few missing keywords and locations, but we have tweets for all ids. Each tweet has\n",
    "- id - unique identified for a tweet\n",
    "- keyword - keyword from the tweet. \n",
    "- location - location the tweet was sent from\n",
    "- text - text of the tweeet\n",
    "- tweet classification : Label. 1 relates to disaster tweet. \n",
    "\n"
   ]
  },
  {
   "cell_type": "code",
   "execution_count": 257,
   "metadata": {},
   "outputs": [
    {
     "data": {
      "text/html": [
       "<div>\n",
       "<style scoped>\n",
       "    .dataframe tbody tr th:only-of-type {\n",
       "        vertical-align: middle;\n",
       "    }\n",
       "\n",
       "    .dataframe tbody tr th {\n",
       "        vertical-align: top;\n",
       "    }\n",
       "\n",
       "    .dataframe thead th {\n",
       "        text-align: right;\n",
       "    }\n",
       "</style>\n",
       "<table border=\"1\" class=\"dataframe\">\n",
       "  <thead>\n",
       "    <tr style=\"text-align: right;\">\n",
       "      <th></th>\n",
       "      <th>id</th>\n",
       "      <th>keyword</th>\n",
       "      <th>location</th>\n",
       "      <th>text</th>\n",
       "      <th>target</th>\n",
       "    </tr>\n",
       "  </thead>\n",
       "  <tbody>\n",
       "    <tr>\n",
       "      <th>0</th>\n",
       "      <td>1</td>\n",
       "      <td>NaN</td>\n",
       "      <td>NaN</td>\n",
       "      <td>Our Deeds are the Reason of this #earthquake M...</td>\n",
       "      <td>1</td>\n",
       "    </tr>\n",
       "    <tr>\n",
       "      <th>1</th>\n",
       "      <td>4</td>\n",
       "      <td>NaN</td>\n",
       "      <td>NaN</td>\n",
       "      <td>Forest fire near La Ronge Sask. Canada</td>\n",
       "      <td>1</td>\n",
       "    </tr>\n",
       "    <tr>\n",
       "      <th>2</th>\n",
       "      <td>5</td>\n",
       "      <td>NaN</td>\n",
       "      <td>NaN</td>\n",
       "      <td>All residents asked to 'shelter in place' are ...</td>\n",
       "      <td>1</td>\n",
       "    </tr>\n",
       "    <tr>\n",
       "      <th>3</th>\n",
       "      <td>6</td>\n",
       "      <td>NaN</td>\n",
       "      <td>NaN</td>\n",
       "      <td>13,000 people receive #wildfires evacuation or...</td>\n",
       "      <td>1</td>\n",
       "    </tr>\n",
       "    <tr>\n",
       "      <th>4</th>\n",
       "      <td>7</td>\n",
       "      <td>NaN</td>\n",
       "      <td>NaN</td>\n",
       "      <td>Just got sent this photo from Ruby #Alaska as ...</td>\n",
       "      <td>1</td>\n",
       "    </tr>\n",
       "  </tbody>\n",
       "</table>\n",
       "</div>"
      ],
      "text/plain": [
       "   id keyword location                                               text  \\\n",
       "0   1     NaN      NaN  Our Deeds are the Reason of this #earthquake M...   \n",
       "1   4     NaN      NaN             Forest fire near La Ronge Sask. Canada   \n",
       "2   5     NaN      NaN  All residents asked to 'shelter in place' are ...   \n",
       "3   6     NaN      NaN  13,000 people receive #wildfires evacuation or...   \n",
       "4   7     NaN      NaN  Just got sent this photo from Ruby #Alaska as ...   \n",
       "\n",
       "   target  \n",
       "0       1  \n",
       "1       1  \n",
       "2       1  \n",
       "3       1  \n",
       "4       1  "
      ]
     },
     "execution_count": 257,
     "metadata": {},
     "output_type": "execute_result"
    }
   ],
   "source": [
    "train.head()"
   ]
  },
  {
   "cell_type": "code",
   "execution_count": 258,
   "metadata": {},
   "outputs": [],
   "source": [
    "# Dropping all the columns except text and target\n",
    "train = train.drop(['id', 'keyword', 'location'], axis=1)\n",
    "test = test.drop(['id', 'keyword', 'location'], axis=1)\n"
   ]
  },
  {
   "cell_type": "code",
   "execution_count": 259,
   "metadata": {},
   "outputs": [
    {
     "data": {
      "text/html": [
       "<div>\n",
       "<style scoped>\n",
       "    .dataframe tbody tr th:only-of-type {\n",
       "        vertical-align: middle;\n",
       "    }\n",
       "\n",
       "    .dataframe tbody tr th {\n",
       "        vertical-align: top;\n",
       "    }\n",
       "\n",
       "    .dataframe thead th {\n",
       "        text-align: right;\n",
       "    }\n",
       "</style>\n",
       "<table border=\"1\" class=\"dataframe\">\n",
       "  <thead>\n",
       "    <tr style=\"text-align: right;\">\n",
       "      <th></th>\n",
       "      <th>text</th>\n",
       "      <th>target</th>\n",
       "    </tr>\n",
       "  </thead>\n",
       "  <tbody>\n",
       "    <tr>\n",
       "      <th>0</th>\n",
       "      <td>Our Deeds are the Reason of this #earthquake M...</td>\n",
       "      <td>1</td>\n",
       "    </tr>\n",
       "    <tr>\n",
       "      <th>1</th>\n",
       "      <td>Forest fire near La Ronge Sask. Canada</td>\n",
       "      <td>1</td>\n",
       "    </tr>\n",
       "    <tr>\n",
       "      <th>2</th>\n",
       "      <td>All residents asked to 'shelter in place' are ...</td>\n",
       "      <td>1</td>\n",
       "    </tr>\n",
       "    <tr>\n",
       "      <th>3</th>\n",
       "      <td>13,000 people receive #wildfires evacuation or...</td>\n",
       "      <td>1</td>\n",
       "    </tr>\n",
       "    <tr>\n",
       "      <th>4</th>\n",
       "      <td>Just got sent this photo from Ruby #Alaska as ...</td>\n",
       "      <td>1</td>\n",
       "    </tr>\n",
       "  </tbody>\n",
       "</table>\n",
       "</div>"
      ],
      "text/plain": [
       "                                                text  target\n",
       "0  Our Deeds are the Reason of this #earthquake M...       1\n",
       "1             Forest fire near La Ronge Sask. Canada       1\n",
       "2  All residents asked to 'shelter in place' are ...       1\n",
       "3  13,000 people receive #wildfires evacuation or...       1\n",
       "4  Just got sent this photo from Ruby #Alaska as ...       1"
      ]
     },
     "execution_count": 259,
     "metadata": {},
     "output_type": "execute_result"
    }
   ],
   "source": [
    "train.head()"
   ]
  },
  {
   "attachments": {},
   "cell_type": "markdown",
   "metadata": {},
   "source": [
    "**Text Preprosssing**\n",
    "a. Html tag removal.\n",
    "b. Tokenization.\n",
    "c. Remove the numbers.\n",
    "d. Removal of Special Characters and Punctuations.\n",
    "e. Removal of stopwords\n",
    "f. Conversion to lowercase.\n",
    "g. Lemmatize or stemming.\n",
    "h. Join the words in the list to convert back to text string in the data frame. (So that each row contains the data in text format.)\n",
    "i. Print the first 5 rows of data after pre-processing."
   ]
  },
  {
   "cell_type": "code",
   "execution_count": 260,
   "metadata": {},
   "outputs": [
    {
     "data": {
      "text/html": [
       "<div>\n",
       "<style scoped>\n",
       "    .dataframe tbody tr th:only-of-type {\n",
       "        vertical-align: middle;\n",
       "    }\n",
       "\n",
       "    .dataframe tbody tr th {\n",
       "        vertical-align: top;\n",
       "    }\n",
       "\n",
       "    .dataframe thead th {\n",
       "        text-align: right;\n",
       "    }\n",
       "</style>\n",
       "<table border=\"1\" class=\"dataframe\">\n",
       "  <thead>\n",
       "    <tr style=\"text-align: right;\">\n",
       "      <th></th>\n",
       "      <th>text</th>\n",
       "      <th>target</th>\n",
       "    </tr>\n",
       "  </thead>\n",
       "  <tbody>\n",
       "    <tr>\n",
       "      <th>0</th>\n",
       "      <td>Our Deeds are the Reason of this #earthquake M...</td>\n",
       "      <td>1</td>\n",
       "    </tr>\n",
       "    <tr>\n",
       "      <th>1</th>\n",
       "      <td>Forest fire near La Ronge Sask. Canada</td>\n",
       "      <td>1</td>\n",
       "    </tr>\n",
       "    <tr>\n",
       "      <th>2</th>\n",
       "      <td>All residents asked to 'shelter in place' are ...</td>\n",
       "      <td>1</td>\n",
       "    </tr>\n",
       "    <tr>\n",
       "      <th>3</th>\n",
       "      <td>13,000 people receive #wildfires evacuation or...</td>\n",
       "      <td>1</td>\n",
       "    </tr>\n",
       "    <tr>\n",
       "      <th>4</th>\n",
       "      <td>Just got sent this photo from Ruby #Alaska as ...</td>\n",
       "      <td>1</td>\n",
       "    </tr>\n",
       "  </tbody>\n",
       "</table>\n",
       "</div>"
      ],
      "text/plain": [
       "                                                text  target\n",
       "0  Our Deeds are the Reason of this #earthquake M...       1\n",
       "1             Forest fire near La Ronge Sask. Canada       1\n",
       "2  All residents asked to 'shelter in place' are ...       1\n",
       "3  13,000 people receive #wildfires evacuation or...       1\n",
       "4  Just got sent this photo from Ruby #Alaska as ...       1"
      ]
     },
     "execution_count": 260,
     "metadata": {},
     "output_type": "execute_result"
    }
   ],
   "source": [
    "def strip_html(text):\n",
    "    soup = BeautifulSoup(text, \"html.parser\")\n",
    "    return soup.get_text()\n",
    "\n",
    "train['text'] = train['text'].apply(lambda x: strip_html(x))\n",
    "test['text'] = test['text'].apply(lambda x: strip_html(x))\n",
    "\n",
    "train.head()"
   ]
  },
  {
   "cell_type": "code",
   "execution_count": 261,
   "metadata": {},
   "outputs": [
    {
     "data": {
      "text/html": [
       "<div>\n",
       "<style scoped>\n",
       "    .dataframe tbody tr th:only-of-type {\n",
       "        vertical-align: middle;\n",
       "    }\n",
       "\n",
       "    .dataframe tbody tr th {\n",
       "        vertical-align: top;\n",
       "    }\n",
       "\n",
       "    .dataframe thead th {\n",
       "        text-align: right;\n",
       "    }\n",
       "</style>\n",
       "<table border=\"1\" class=\"dataframe\">\n",
       "  <thead>\n",
       "    <tr style=\"text-align: right;\">\n",
       "      <th></th>\n",
       "      <th>text</th>\n",
       "      <th>target</th>\n",
       "    </tr>\n",
       "  </thead>\n",
       "  <tbody>\n",
       "    <tr>\n",
       "      <th>0</th>\n",
       "      <td>Our Deeds are the Reason of this #earthquake M...</td>\n",
       "      <td>1</td>\n",
       "    </tr>\n",
       "    <tr>\n",
       "      <th>1</th>\n",
       "      <td>Forest fire near La Ronge Sask. Canada</td>\n",
       "      <td>1</td>\n",
       "    </tr>\n",
       "    <tr>\n",
       "      <th>2</th>\n",
       "      <td>All residents asked to 'shelter in place' are ...</td>\n",
       "      <td>1</td>\n",
       "    </tr>\n",
       "    <tr>\n",
       "      <th>3</th>\n",
       "      <td>13,000 people receive #wildfires evacuation or...</td>\n",
       "      <td>1</td>\n",
       "    </tr>\n",
       "    <tr>\n",
       "      <th>4</th>\n",
       "      <td>Just got sent this photo from Ruby #Alaska as ...</td>\n",
       "      <td>1</td>\n",
       "    </tr>\n",
       "  </tbody>\n",
       "</table>\n",
       "</div>"
      ],
      "text/plain": [
       "                                                text  target\n",
       "0  Our Deeds are the Reason of this #earthquake M...       1\n",
       "1             Forest fire near La Ronge Sask. Canada       1\n",
       "2  All residents asked to 'shelter in place' are ...       1\n",
       "3  13,000 people receive #wildfires evacuation or...       1\n",
       "4  Just got sent this photo from Ruby #Alaska as ...       1"
      ]
     },
     "execution_count": 261,
     "metadata": {},
     "output_type": "execute_result"
    }
   ],
   "source": [
    "def replace_contractions(text):\n",
    "    \"\"\"Replace contractions in string of text\"\"\"\n",
    "    return contractions.fix(text)\n",
    "\n",
    "train['text'] = train['text'].apply(lambda x: replace_contractions(x))\n",
    "test['text'] = test['text'].apply(lambda x: replace_contractions(x))\n",
    "\n",
    "train.head()"
   ]
  },
  {
   "attachments": {},
   "cell_type": "markdown",
   "metadata": {},
   "source": [
    "Pre-Processing : Remove Numbers"
   ]
  },
  {
   "cell_type": "code",
   "execution_count": 262,
   "metadata": {},
   "outputs": [
    {
     "data": {
      "text/html": [
       "<div>\n",
       "<style scoped>\n",
       "    .dataframe tbody tr th:only-of-type {\n",
       "        vertical-align: middle;\n",
       "    }\n",
       "\n",
       "    .dataframe tbody tr th {\n",
       "        vertical-align: top;\n",
       "    }\n",
       "\n",
       "    .dataframe thead th {\n",
       "        text-align: right;\n",
       "    }\n",
       "</style>\n",
       "<table border=\"1\" class=\"dataframe\">\n",
       "  <thead>\n",
       "    <tr style=\"text-align: right;\">\n",
       "      <th></th>\n",
       "      <th>text</th>\n",
       "      <th>target</th>\n",
       "    </tr>\n",
       "  </thead>\n",
       "  <tbody>\n",
       "    <tr>\n",
       "      <th>0</th>\n",
       "      <td>Our Deeds are the Reason of this #earthquake M...</td>\n",
       "      <td>1</td>\n",
       "    </tr>\n",
       "    <tr>\n",
       "      <th>1</th>\n",
       "      <td>Forest fire near La Ronge Sask. Canada</td>\n",
       "      <td>1</td>\n",
       "    </tr>\n",
       "    <tr>\n",
       "      <th>2</th>\n",
       "      <td>All residents asked to 'shelter in place' are ...</td>\n",
       "      <td>1</td>\n",
       "    </tr>\n",
       "    <tr>\n",
       "      <th>3</th>\n",
       "      <td>, people receive #wildfires evacuation orders ...</td>\n",
       "      <td>1</td>\n",
       "    </tr>\n",
       "    <tr>\n",
       "      <th>4</th>\n",
       "      <td>Just got sent this photo from Ruby #Alaska as ...</td>\n",
       "      <td>1</td>\n",
       "    </tr>\n",
       "  </tbody>\n",
       "</table>\n",
       "</div>"
      ],
      "text/plain": [
       "                                                text  target\n",
       "0  Our Deeds are the Reason of this #earthquake M...       1\n",
       "1             Forest fire near La Ronge Sask. Canada       1\n",
       "2  All residents asked to 'shelter in place' are ...       1\n",
       "3  , people receive #wildfires evacuation orders ...       1\n",
       "4  Just got sent this photo from Ruby #Alaska as ...       1"
      ]
     },
     "execution_count": 262,
     "metadata": {},
     "output_type": "execute_result"
    }
   ],
   "source": [
    "def remove_numbers(text):\n",
    "  text = re.sub(r'\\d+', '', text)\n",
    "  return text\n",
    "\n",
    "train['text'] = train['text'].apply(lambda x: remove_numbers(x))\n",
    "test['text'] = test['text'].apply(lambda x: remove_numbers(x))\n",
    "\n",
    "train.head()"
   ]
  },
  {
   "attachments": {},
   "cell_type": "markdown",
   "metadata": {},
   "source": [
    "Pre-Processing : Tokenization"
   ]
  },
  {
   "cell_type": "code",
   "execution_count": 263,
   "metadata": {},
   "outputs": [
    {
     "data": {
      "text/html": [
       "<div>\n",
       "<style scoped>\n",
       "    .dataframe tbody tr th:only-of-type {\n",
       "        vertical-align: middle;\n",
       "    }\n",
       "\n",
       "    .dataframe tbody tr th {\n",
       "        vertical-align: top;\n",
       "    }\n",
       "\n",
       "    .dataframe thead th {\n",
       "        text-align: right;\n",
       "    }\n",
       "</style>\n",
       "<table border=\"1\" class=\"dataframe\">\n",
       "  <thead>\n",
       "    <tr style=\"text-align: right;\">\n",
       "      <th></th>\n",
       "      <th>text</th>\n",
       "      <th>target</th>\n",
       "    </tr>\n",
       "  </thead>\n",
       "  <tbody>\n",
       "    <tr>\n",
       "      <th>0</th>\n",
       "      <td>[Our, Deeds, are, the, Reason, of, this, #, ea...</td>\n",
       "      <td>1</td>\n",
       "    </tr>\n",
       "    <tr>\n",
       "      <th>1</th>\n",
       "      <td>[Forest, fire, near, La, Ronge, Sask, ., Canada]</td>\n",
       "      <td>1</td>\n",
       "    </tr>\n",
       "    <tr>\n",
       "      <th>2</th>\n",
       "      <td>[All, residents, asked, to, 'shelter, in, plac...</td>\n",
       "      <td>1</td>\n",
       "    </tr>\n",
       "    <tr>\n",
       "      <th>3</th>\n",
       "      <td>[,, people, receive, #, wildfires, evacuation,...</td>\n",
       "      <td>1</td>\n",
       "    </tr>\n",
       "    <tr>\n",
       "      <th>4</th>\n",
       "      <td>[Just, got, sent, this, photo, from, Ruby, #, ...</td>\n",
       "      <td>1</td>\n",
       "    </tr>\n",
       "  </tbody>\n",
       "</table>\n",
       "</div>"
      ],
      "text/plain": [
       "                                                text  target\n",
       "0  [Our, Deeds, are, the, Reason, of, this, #, ea...       1\n",
       "1   [Forest, fire, near, La, Ronge, Sask, ., Canada]       1\n",
       "2  [All, residents, asked, to, 'shelter, in, plac...       1\n",
       "3  [,, people, receive, #, wildfires, evacuation,...       1\n",
       "4  [Just, got, sent, this, photo, from, Ruby, #, ...       1"
      ]
     },
     "execution_count": 263,
     "metadata": {},
     "output_type": "execute_result"
    }
   ],
   "source": [
    "train['text'] = train.apply(lambda row: nltk.word_tokenize(row['text']), axis=1) # Tokenization of data\n",
    "test['text'] = test.apply(lambda row: nltk.word_tokenize(row['text']), axis=1) # Tokenization of data\n",
    "train.head()"
   ]
  },
  {
   "attachments": {},
   "cell_type": "markdown",
   "metadata": {},
   "source": [
    "Pre-Processing : Remove Non-Ascii Characters"
   ]
  },
  {
   "cell_type": "code",
   "execution_count": 264,
   "metadata": {},
   "outputs": [
    {
     "data": {
      "text/html": [
       "<div>\n",
       "<style scoped>\n",
       "    .dataframe tbody tr th:only-of-type {\n",
       "        vertical-align: middle;\n",
       "    }\n",
       "\n",
       "    .dataframe tbody tr th {\n",
       "        vertical-align: top;\n",
       "    }\n",
       "\n",
       "    .dataframe thead th {\n",
       "        text-align: right;\n",
       "    }\n",
       "</style>\n",
       "<table border=\"1\" class=\"dataframe\">\n",
       "  <thead>\n",
       "    <tr style=\"text-align: right;\">\n",
       "      <th></th>\n",
       "      <th>text</th>\n",
       "      <th>target</th>\n",
       "    </tr>\n",
       "  </thead>\n",
       "  <tbody>\n",
       "    <tr>\n",
       "      <th>0</th>\n",
       "      <td>[Our, Deeds, are, the, Reason, of, this, #, ea...</td>\n",
       "      <td>1</td>\n",
       "    </tr>\n",
       "    <tr>\n",
       "      <th>1</th>\n",
       "      <td>[Forest, fire, near, La, Ronge, Sask, ., Canada]</td>\n",
       "      <td>1</td>\n",
       "    </tr>\n",
       "    <tr>\n",
       "      <th>2</th>\n",
       "      <td>[All, residents, asked, to, 'shelter, in, plac...</td>\n",
       "      <td>1</td>\n",
       "    </tr>\n",
       "    <tr>\n",
       "      <th>3</th>\n",
       "      <td>[,, people, receive, #, wildfires, evacuation,...</td>\n",
       "      <td>1</td>\n",
       "    </tr>\n",
       "    <tr>\n",
       "      <th>4</th>\n",
       "      <td>[Just, got, sent, this, photo, from, Ruby, #, ...</td>\n",
       "      <td>1</td>\n",
       "    </tr>\n",
       "  </tbody>\n",
       "</table>\n",
       "</div>"
      ],
      "text/plain": [
       "                                                text  target\n",
       "0  [Our, Deeds, are, the, Reason, of, this, #, ea...       1\n",
       "1   [Forest, fire, near, La, Ronge, Sask, ., Canada]       1\n",
       "2  [All, residents, asked, to, 'shelter, in, plac...       1\n",
       "3  [,, people, receive, #, wildfires, evacuation,...       1\n",
       "4  [Just, got, sent, this, photo, from, Ruby, #, ...       1"
      ]
     },
     "execution_count": 264,
     "metadata": {},
     "output_type": "execute_result"
    }
   ],
   "source": [
    "def remove_non_ascii(words):\n",
    "    \"\"\"Remove non-ASCII characters from list of tokenized words\"\"\"\n",
    "    new_words = []                        # Create empty list to store pre-processed words.\n",
    "    for word in words:\n",
    "        new_word = unicodedata.normalize('NFKD', word).encode('ascii', 'ignore').decode('utf-8', 'ignore')\n",
    "        new_words.append(new_word)        # Append processed words to new list.\n",
    "    return new_words\n",
    "\n",
    "train['text'] = train['text'].apply(lambda x: remove_non_ascii(x))\n",
    "test['text'] = test['text'].apply(lambda x: remove_non_ascii(x))\n",
    "train.head()"
   ]
  },
  {
   "attachments": {},
   "cell_type": "markdown",
   "metadata": {},
   "source": [
    "Pre-Processing : Lower Case"
   ]
  },
  {
   "cell_type": "code",
   "execution_count": 265,
   "metadata": {},
   "outputs": [
    {
     "data": {
      "text/html": [
       "<div>\n",
       "<style scoped>\n",
       "    .dataframe tbody tr th:only-of-type {\n",
       "        vertical-align: middle;\n",
       "    }\n",
       "\n",
       "    .dataframe tbody tr th {\n",
       "        vertical-align: top;\n",
       "    }\n",
       "\n",
       "    .dataframe thead th {\n",
       "        text-align: right;\n",
       "    }\n",
       "</style>\n",
       "<table border=\"1\" class=\"dataframe\">\n",
       "  <thead>\n",
       "    <tr style=\"text-align: right;\">\n",
       "      <th></th>\n",
       "      <th>text</th>\n",
       "      <th>target</th>\n",
       "    </tr>\n",
       "  </thead>\n",
       "  <tbody>\n",
       "    <tr>\n",
       "      <th>0</th>\n",
       "      <td>[our, deeds, are, the, reason, of, this, #, ea...</td>\n",
       "      <td>1</td>\n",
       "    </tr>\n",
       "    <tr>\n",
       "      <th>1</th>\n",
       "      <td>[forest, fire, near, la, ronge, sask, ., canada]</td>\n",
       "      <td>1</td>\n",
       "    </tr>\n",
       "    <tr>\n",
       "      <th>2</th>\n",
       "      <td>[all, residents, asked, to, 'shelter, in, plac...</td>\n",
       "      <td>1</td>\n",
       "    </tr>\n",
       "    <tr>\n",
       "      <th>3</th>\n",
       "      <td>[,, people, receive, #, wildfires, evacuation,...</td>\n",
       "      <td>1</td>\n",
       "    </tr>\n",
       "    <tr>\n",
       "      <th>4</th>\n",
       "      <td>[just, got, sent, this, photo, from, ruby, #, ...</td>\n",
       "      <td>1</td>\n",
       "    </tr>\n",
       "  </tbody>\n",
       "</table>\n",
       "</div>"
      ],
      "text/plain": [
       "                                                text  target\n",
       "0  [our, deeds, are, the, reason, of, this, #, ea...       1\n",
       "1   [forest, fire, near, la, ronge, sask, ., canada]       1\n",
       "2  [all, residents, asked, to, 'shelter, in, plac...       1\n",
       "3  [,, people, receive, #, wildfires, evacuation,...       1\n",
       "4  [just, got, sent, this, photo, from, ruby, #, ...       1"
      ]
     },
     "execution_count": 265,
     "metadata": {},
     "output_type": "execute_result"
    }
   ],
   "source": [
    "def to_lowercase(words):\n",
    "    \"\"\"Convert all characters to lowercase from list of tokenized words\"\"\"\n",
    "    new_words = []                        # Create empty list to store pre-processed words.\n",
    "    for word in words:\n",
    "        new_word = word.lower()           # Converting to lowercase\n",
    "        new_words.append(new_word)        # Append processed words to new list.\n",
    "    return new_words\n",
    "\n",
    "train['text'] = train['text'].apply(lambda x: to_lowercase(x))\n",
    "test['text'] = test['text'].apply(lambda x: to_lowercase(x))\n",
    "train.head()"
   ]
  },
  {
   "attachments": {},
   "cell_type": "markdown",
   "metadata": {},
   "source": [
    "Pre-Processing : Remove of Punctuation"
   ]
  },
  {
   "cell_type": "code",
   "execution_count": 266,
   "metadata": {},
   "outputs": [
    {
     "data": {
      "text/html": [
       "<div>\n",
       "<style scoped>\n",
       "    .dataframe tbody tr th:only-of-type {\n",
       "        vertical-align: middle;\n",
       "    }\n",
       "\n",
       "    .dataframe tbody tr th {\n",
       "        vertical-align: top;\n",
       "    }\n",
       "\n",
       "    .dataframe thead th {\n",
       "        text-align: right;\n",
       "    }\n",
       "</style>\n",
       "<table border=\"1\" class=\"dataframe\">\n",
       "  <thead>\n",
       "    <tr style=\"text-align: right;\">\n",
       "      <th></th>\n",
       "      <th>text</th>\n",
       "      <th>target</th>\n",
       "    </tr>\n",
       "  </thead>\n",
       "  <tbody>\n",
       "    <tr>\n",
       "      <th>0</th>\n",
       "      <td>[our, deeds, are, the, reason, of, this, earth...</td>\n",
       "      <td>1</td>\n",
       "    </tr>\n",
       "    <tr>\n",
       "      <th>1</th>\n",
       "      <td>[forest, fire, near, la, ronge, sask, canada]</td>\n",
       "      <td>1</td>\n",
       "    </tr>\n",
       "    <tr>\n",
       "      <th>2</th>\n",
       "      <td>[all, residents, asked, to, shelter, in, place...</td>\n",
       "      <td>1</td>\n",
       "    </tr>\n",
       "    <tr>\n",
       "      <th>3</th>\n",
       "      <td>[people, receive, wildfires, evacuation, order...</td>\n",
       "      <td>1</td>\n",
       "    </tr>\n",
       "    <tr>\n",
       "      <th>4</th>\n",
       "      <td>[just, got, sent, this, photo, from, ruby, ala...</td>\n",
       "      <td>1</td>\n",
       "    </tr>\n",
       "  </tbody>\n",
       "</table>\n",
       "</div>"
      ],
      "text/plain": [
       "                                                text  target\n",
       "0  [our, deeds, are, the, reason, of, this, earth...       1\n",
       "1      [forest, fire, near, la, ronge, sask, canada]       1\n",
       "2  [all, residents, asked, to, shelter, in, place...       1\n",
       "3  [people, receive, wildfires, evacuation, order...       1\n",
       "4  [just, got, sent, this, photo, from, ruby, ala...       1"
      ]
     },
     "execution_count": 266,
     "metadata": {},
     "output_type": "execute_result"
    }
   ],
   "source": [
    "def remove_punctuation(words):\n",
    "    \"\"\"Remove punctuation from list of tokenized words\"\"\"\n",
    "    new_words = []                        # Create empty list to store pre-processed words.\n",
    "    for word in words:\n",
    "        new_word = re.sub(r'[^\\w\\s]', '', word)\n",
    "        if new_word != '':\n",
    "            new_words.append(new_word)    # Append processed words to new list.\n",
    "    return new_words\n",
    "\n",
    "train['text'] = train['text'].apply(lambda x: remove_punctuation(x))\n",
    "test['text'] = test['text'].apply(lambda x: remove_punctuation(x))\n",
    "train.head()"
   ]
  },
  {
   "attachments": {},
   "cell_type": "markdown",
   "metadata": {},
   "source": [
    "Pre-Processing : Stop Words"
   ]
  },
  {
   "cell_type": "code",
   "execution_count": 267,
   "metadata": {},
   "outputs": [],
   "source": [
    "stopwords = stopwords.words('english')\n",
    "\n",
    "customlist = ['not', \"couldn't\", 'didn', \"didn't\", 'doesn', \"doesn't\", 'hadn', \"hadn't\", 'hasn',\"hasn't\", 'haven', \"haven't\", 'isn', \"isn't\", 'ma', 'mightn', \"mightn't\", 'mustn',\"mustn't\", 'needn', \"needn't\", 'shan', \"shan't\", 'shouldn', \"shouldn't\", 'wasn',\"wasn't\",'weren',\"weren't\",'won',\"won't\",'wouldn',\"wouldn't\"]\n",
    "stopwords = list(set(stopwords) - set(customlist))"
   ]
  },
  {
   "cell_type": "code",
   "execution_count": 268,
   "metadata": {},
   "outputs": [
    {
     "data": {
      "text/html": [
       "<div>\n",
       "<style scoped>\n",
       "    .dataframe tbody tr th:only-of-type {\n",
       "        vertical-align: middle;\n",
       "    }\n",
       "\n",
       "    .dataframe tbody tr th {\n",
       "        vertical-align: top;\n",
       "    }\n",
       "\n",
       "    .dataframe thead th {\n",
       "        text-align: right;\n",
       "    }\n",
       "</style>\n",
       "<table border=\"1\" class=\"dataframe\">\n",
       "  <thead>\n",
       "    <tr style=\"text-align: right;\">\n",
       "      <th></th>\n",
       "      <th>text</th>\n",
       "      <th>target</th>\n",
       "    </tr>\n",
       "  </thead>\n",
       "  <tbody>\n",
       "    <tr>\n",
       "      <th>0</th>\n",
       "      <td>[deeds, reason, earthquake, may, allah, forgiv...</td>\n",
       "      <td>1</td>\n",
       "    </tr>\n",
       "    <tr>\n",
       "      <th>1</th>\n",
       "      <td>[forest, fire, near, la, ronge, sask, canada]</td>\n",
       "      <td>1</td>\n",
       "    </tr>\n",
       "    <tr>\n",
       "      <th>2</th>\n",
       "      <td>[residents, asked, shelter, place, notified, o...</td>\n",
       "      <td>1</td>\n",
       "    </tr>\n",
       "    <tr>\n",
       "      <th>3</th>\n",
       "      <td>[people, receive, wildfires, evacuation, order...</td>\n",
       "      <td>1</td>\n",
       "    </tr>\n",
       "    <tr>\n",
       "      <th>4</th>\n",
       "      <td>[got, sent, photo, ruby, alaska, smoke, wildfi...</td>\n",
       "      <td>1</td>\n",
       "    </tr>\n",
       "  </tbody>\n",
       "</table>\n",
       "</div>"
      ],
      "text/plain": [
       "                                                text  target\n",
       "0  [deeds, reason, earthquake, may, allah, forgiv...       1\n",
       "1      [forest, fire, near, la, ronge, sask, canada]       1\n",
       "2  [residents, asked, shelter, place, notified, o...       1\n",
       "3  [people, receive, wildfires, evacuation, order...       1\n",
       "4  [got, sent, photo, ruby, alaska, smoke, wildfi...       1"
      ]
     },
     "execution_count": 268,
     "metadata": {},
     "output_type": "execute_result"
    }
   ],
   "source": [
    "def remove_stopwords(words):\n",
    "    \"\"\"Remove stop words from list of tokenized words\"\"\"\n",
    "    new_words = []                        # Create empty list to store pre-processed words.\n",
    "    for word in words:\n",
    "        if word not in stopwords:\n",
    "            new_words.append(word)        # Append processed words to new list.\n",
    "    return new_words\n",
    "\n",
    "train['text'] = train['text'].apply(lambda x: remove_stopwords(x))\n",
    "test['text'] = test['text'].apply(lambda x: remove_stopwords(x))\n",
    "train.head()"
   ]
  },
  {
   "attachments": {},
   "cell_type": "markdown",
   "metadata": {},
   "source": [
    "Pre-Processing : Lemmatization"
   ]
  },
  {
   "cell_type": "code",
   "execution_count": 269,
   "metadata": {},
   "outputs": [
    {
     "data": {
      "text/html": [
       "<div>\n",
       "<style scoped>\n",
       "    .dataframe tbody tr th:only-of-type {\n",
       "        vertical-align: middle;\n",
       "    }\n",
       "\n",
       "    .dataframe tbody tr th {\n",
       "        vertical-align: top;\n",
       "    }\n",
       "\n",
       "    .dataframe thead th {\n",
       "        text-align: right;\n",
       "    }\n",
       "</style>\n",
       "<table border=\"1\" class=\"dataframe\">\n",
       "  <thead>\n",
       "    <tr style=\"text-align: right;\">\n",
       "      <th></th>\n",
       "      <th>text</th>\n",
       "      <th>target</th>\n",
       "    </tr>\n",
       "  </thead>\n",
       "  <tbody>\n",
       "    <tr>\n",
       "      <th>0</th>\n",
       "      <td>[deed, reason, earthquake, may, allah, forgive...</td>\n",
       "      <td>1</td>\n",
       "    </tr>\n",
       "    <tr>\n",
       "      <th>1</th>\n",
       "      <td>[forest, fire, near, la, ronge, sask, canada]</td>\n",
       "      <td>1</td>\n",
       "    </tr>\n",
       "    <tr>\n",
       "      <th>2</th>\n",
       "      <td>[resident, asked, shelter, place, notified, of...</td>\n",
       "      <td>1</td>\n",
       "    </tr>\n",
       "    <tr>\n",
       "      <th>3</th>\n",
       "      <td>[people, receive, wildfire, evacuation, order,...</td>\n",
       "      <td>1</td>\n",
       "    </tr>\n",
       "    <tr>\n",
       "      <th>4</th>\n",
       "      <td>[got, sent, photo, ruby, alaska, smoke, wildfi...</td>\n",
       "      <td>1</td>\n",
       "    </tr>\n",
       "  </tbody>\n",
       "</table>\n",
       "</div>"
      ],
      "text/plain": [
       "                                                text  target\n",
       "0  [deed, reason, earthquake, may, allah, forgive...       1\n",
       "1      [forest, fire, near, la, ronge, sask, canada]       1\n",
       "2  [resident, asked, shelter, place, notified, of...       1\n",
       "3  [people, receive, wildfire, evacuation, order,...       1\n",
       "4  [got, sent, photo, ruby, alaska, smoke, wildfi...       1"
      ]
     },
     "execution_count": 269,
     "metadata": {},
     "output_type": "execute_result"
    }
   ],
   "source": [
    "lemmatizer = WordNetLemmatizer()\n",
    "def lemmatize_list(words):\n",
    "    new_words = []\n",
    "    for word in words:\n",
    "      new_words.append(lemmatizer.lemmatize(word))\n",
    "    return new_words\n",
    "\n",
    "train['text'] = train['text'].apply(lambda x: lemmatize_list(x))\n",
    "test['text'] = test['text'].apply(lambda x: lemmatize_list(x))\n",
    "train.head()"
   ]
  },
  {
   "attachments": {},
   "cell_type": "markdown",
   "metadata": {},
   "source": [
    "Pre-Processing - Normalization. Aggregrating pre-processing function into one.\n",
    "\n"
   ]
  },
  {
   "cell_type": "code",
   "execution_count": 270,
   "metadata": {},
   "outputs": [],
   "source": [
    "def normalize(words):\n",
    "    words = remove_non_ascii(words)\n",
    "    words = to_lowercase(words)\n",
    "    words = remove_punctuation(words)\n",
    "    words = remove_stopwords(words)\n",
    "    words = lemmatize_list(words)\n",
    "    return ' '.join(words)\n",
    "\n",
    "train['text'] = train.apply(lambda row: normalize(row['text']), axis=1)\n",
    "test['text'] = test.apply(lambda row: normalize(row['text']), axis=1)"
   ]
  },
  {
   "cell_type": "code",
   "execution_count": 271,
   "metadata": {},
   "outputs": [
    {
     "data": {
      "text/html": [
       "<div>\n",
       "<style scoped>\n",
       "    .dataframe tbody tr th:only-of-type {\n",
       "        vertical-align: middle;\n",
       "    }\n",
       "\n",
       "    .dataframe tbody tr th {\n",
       "        vertical-align: top;\n",
       "    }\n",
       "\n",
       "    .dataframe thead th {\n",
       "        text-align: right;\n",
       "    }\n",
       "</style>\n",
       "<table border=\"1\" class=\"dataframe\">\n",
       "  <thead>\n",
       "    <tr style=\"text-align: right;\">\n",
       "      <th></th>\n",
       "      <th>text</th>\n",
       "      <th>target</th>\n",
       "    </tr>\n",
       "  </thead>\n",
       "  <tbody>\n",
       "    <tr>\n",
       "      <th>0</th>\n",
       "      <td>deed reason earthquake may allah forgive u</td>\n",
       "      <td>1</td>\n",
       "    </tr>\n",
       "    <tr>\n",
       "      <th>1</th>\n",
       "      <td>forest fire near la ronge sask canada</td>\n",
       "      <td>1</td>\n",
       "    </tr>\n",
       "    <tr>\n",
       "      <th>2</th>\n",
       "      <td>resident asked shelter place notified officer ...</td>\n",
       "      <td>1</td>\n",
       "    </tr>\n",
       "    <tr>\n",
       "      <th>3</th>\n",
       "      <td>people receive wildfire evacuation order calif...</td>\n",
       "      <td>1</td>\n",
       "    </tr>\n",
       "    <tr>\n",
       "      <th>4</th>\n",
       "      <td>got sent photo ruby alaska smoke wildfire pour...</td>\n",
       "      <td>1</td>\n",
       "    </tr>\n",
       "  </tbody>\n",
       "</table>\n",
       "</div>"
      ],
      "text/plain": [
       "                                                text  target\n",
       "0         deed reason earthquake may allah forgive u       1\n",
       "1              forest fire near la ronge sask canada       1\n",
       "2  resident asked shelter place notified officer ...       1\n",
       "3  people receive wildfire evacuation order calif...       1\n",
       "4  got sent photo ruby alaska smoke wildfire pour...       1"
      ]
     },
     "execution_count": 271,
     "metadata": {},
     "output_type": "execute_result"
    }
   ],
   "source": [
    "train.head()"
   ]
  },
  {
   "cell_type": "code",
   "execution_count": 272,
   "metadata": {},
   "outputs": [],
   "source": [
    "X_train, y_train = train['text'], train['target']\n",
    "X_test = test['text']"
   ]
  },
  {
   "attachments": {},
   "cell_type": "markdown",
   "metadata": {},
   "source": [
    "**Model Architecture (25 pts)**\n",
    "\n",
    "Describe your model architecture and reasoning for why you believe that specific architecture would be suitable for this problem. \n",
    "\n",
    "Since we did not learn NLP-specific techniques such as word embeddings in the lectures, we recommend looking at Kaggle tutorials, discussion boards, and code examples posted for this challenge.  You can use any resources needed, but make sure you “demonstrate” you understood by including explanations in your own words. Also importantly, please have a reference list at the end of the report.  \n",
    "\n",
    "There are many methods to process texts to matrix form (word embedding), including TF-IDF, GloVe, Word2Vec, etc. Pick a strategy and process the raw texts to word embedding. Briefly explain the method(s) and how they work in your own words.\n",
    "\n",
    "Build and train your sequential neural network model (You may use any RNN family neural network, including advanced architectures LSTM, GRU, bidirectional RNN, etc.). "
   ]
  },
  {
   "attachments": {},
   "cell_type": "markdown",
   "metadata": {},
   "source": [
    "We will implement a sequential neural network model for sentimental analysis using LSTM layers. \n",
    "\n",
    "- Tokenization: The text data is tokenized using the Tokenizer class, which creates a word index based on the frequency of words in the training data.\n",
    "- Conversion to sequences: The text data is converted to sequences of integers using the word index generated by the tokenizer.\n",
    "- Padding sequences: The sequences are padded or truncated to ensure they all have the same length.\n",
    "- Model construction: A sequential model is created with an embedding layer, followed by two LSTM layers and a dense layer for binary classification.\n",
    "- Data type conversion: The input data is converted to NumPy arrays of type 'float32'.\n",
    "- Model compilation: The model is compiled with the Adam optimizer, binary cross-entropy loss function, and accuracy metric.\n",
    "- Model checkpointing: A callback is defined to save the best model based on validation accuracy during training.\n",
    "- Model training: The model is trained using the fit method with the training data, number of epochs, batch size, and a validation split."
   ]
  },
  {
   "cell_type": "code",
   "execution_count": 273,
   "metadata": {},
   "outputs": [],
   "source": [
    "num_words = 10000\n",
    "max_review_len = 100"
   ]
  },
  {
   "cell_type": "code",
   "execution_count": 274,
   "metadata": {},
   "outputs": [],
   "source": [
    "tokenizer = Tokenizer(num_words=num_words)\n",
    "tokenizer.fit_on_texts(X_train)"
   ]
  },
  {
   "cell_type": "code",
   "execution_count": 275,
   "metadata": {},
   "outputs": [],
   "source": [
    "\n",
    "X_train = tokenizer.texts_to_sequences(X_train)\n",
    "X_test = tokenizer.texts_to_sequences(X_test)"
   ]
  },
  {
   "cell_type": "code",
   "execution_count": 276,
   "metadata": {},
   "outputs": [],
   "source": [
    "X_train = pad_sequences(X_train, maxlen=max_review_len)\n",
    "X_test = pad_sequences(X_test, maxlen=max_review_len)\n"
   ]
  },
  {
   "cell_type": "code",
   "execution_count": 277,
   "metadata": {},
   "outputs": [
    {
     "name": "stderr",
     "output_type": "stream",
     "text": [
      "2023-06-25 10:43:24.172254: I tensorflow/core/common_runtime/executor.cc:1197] [/device:CPU:0] (DEBUG INFO) Executor start aborting (this does not indicate an error and you can ignore this message): INVALID_ARGUMENT: You must feed a value for placeholder tensor 'gradients/split_2_grad/concat/split_2/split_dim' with dtype int32\n",
      "\t [[{{node gradients/split_2_grad/concat/split_2/split_dim}}]]\n",
      "2023-06-25 10:43:24.173737: I tensorflow/core/common_runtime/executor.cc:1197] [/device:CPU:0] (DEBUG INFO) Executor start aborting (this does not indicate an error and you can ignore this message): INVALID_ARGUMENT: You must feed a value for placeholder tensor 'gradients/split_grad/concat/split/split_dim' with dtype int32\n",
      "\t [[{{node gradients/split_grad/concat/split/split_dim}}]]\n",
      "2023-06-25 10:43:24.176032: I tensorflow/core/common_runtime/executor.cc:1197] [/device:CPU:0] (DEBUG INFO) Executor start aborting (this does not indicate an error and you can ignore this message): INVALID_ARGUMENT: You must feed a value for placeholder tensor 'gradients/split_1_grad/concat/split_1/split_dim' with dtype int32\n",
      "\t [[{{node gradients/split_1_grad/concat/split_1/split_dim}}]]\n",
      "2023-06-25 10:43:24.437990: I tensorflow/core/common_runtime/executor.cc:1197] [/device:CPU:0] (DEBUG INFO) Executor start aborting (this does not indicate an error and you can ignore this message): INVALID_ARGUMENT: You must feed a value for placeholder tensor 'gradients/split_2_grad/concat/split_2/split_dim' with dtype int32\n",
      "\t [[{{node gradients/split_2_grad/concat/split_2/split_dim}}]]\n",
      "2023-06-25 10:43:24.439818: I tensorflow/core/common_runtime/executor.cc:1197] [/device:CPU:0] (DEBUG INFO) Executor start aborting (this does not indicate an error and you can ignore this message): INVALID_ARGUMENT: You must feed a value for placeholder tensor 'gradients/split_grad/concat/split/split_dim' with dtype int32\n",
      "\t [[{{node gradients/split_grad/concat/split/split_dim}}]]\n",
      "2023-06-25 10:43:24.441179: I tensorflow/core/common_runtime/executor.cc:1197] [/device:CPU:0] (DEBUG INFO) Executor start aborting (this does not indicate an error and you can ignore this message): INVALID_ARGUMENT: You must feed a value for placeholder tensor 'gradients/split_1_grad/concat/split_1/split_dim' with dtype int32\n",
      "\t [[{{node gradients/split_1_grad/concat/split_1/split_dim}}]]\n"
     ]
    }
   ],
   "source": [
    "# Build and train your sequential neural network model \n",
    "# You may use any RNN family neural network including LSTM, GRU, bidirectional RNN, etc.\n",
    "from tensorflow.keras.models import Sequential\n",
    "from tensorflow.keras.layers import Dense, Embedding, GRU, LSTM, Dropout\n",
    "from tensorflow.keras import utils\n",
    "from tensorflow.keras.preprocessing.sequence import pad_sequences\n",
    "from tensorflow.keras.callbacks import ModelCheckpoint\n",
    "\n",
    "\n",
    "model = Sequential()\n",
    "model.add(Embedding(num_words, 100, input_length=max_review_len))\n",
    "model.add(LSTM(256, return_sequences=True))\n",
    "model.add(LSTM(128))\n",
    "model.add(Dense(1, activation='sigmoid'))\n"
   ]
  },
  {
   "cell_type": "code",
   "execution_count": 278,
   "metadata": {},
   "outputs": [],
   "source": [
    "model.compile(optimizer='adam', \n",
    "              loss='binary_crossentropy', \n",
    "              metrics=['accuracy'])"
   ]
  },
  {
   "cell_type": "code",
   "execution_count": 279,
   "metadata": {},
   "outputs": [],
   "source": [
    "X_train = np.asarray(X_train).astype('float32')\n",
    "y_train = np.asarray(y_train).astype('float32')"
   ]
  },
  {
   "cell_type": "code",
   "execution_count": 280,
   "metadata": {},
   "outputs": [],
   "source": [
    "model.compile(optimizer='adam', \n",
    "              loss='binary_crossentropy', \n",
    "              metrics=['accuracy'])"
   ]
  },
  {
   "cell_type": "code",
   "execution_count": 281,
   "metadata": {},
   "outputs": [],
   "source": [
    "model_save_path = 'best_model.h5'\n",
    "checkpoint_callback = ModelCheckpoint(model_save_path, \n",
    "                                      monitor='val_accuracy',\n",
    "                                      save_best_only=True,\n",
    "                                      verbose=1)"
   ]
  },
  {
   "cell_type": "code",
   "execution_count": 282,
   "metadata": {},
   "outputs": [
    {
     "name": "stdout",
     "output_type": "stream",
     "text": [
      "Epoch 1/15\n"
     ]
    },
    {
     "name": "stderr",
     "output_type": "stream",
     "text": [
      "2023-06-25 10:43:24.925496: I tensorflow/core/common_runtime/executor.cc:1197] [/device:CPU:0] (DEBUG INFO) Executor start aborting (this does not indicate an error and you can ignore this message): INVALID_ARGUMENT: You must feed a value for placeholder tensor 'gradients/split_2_grad/concat/split_2/split_dim' with dtype int32\n",
      "\t [[{{node gradients/split_2_grad/concat/split_2/split_dim}}]]\n",
      "2023-06-25 10:43:24.928610: I tensorflow/core/common_runtime/executor.cc:1197] [/device:CPU:0] (DEBUG INFO) Executor start aborting (this does not indicate an error and you can ignore this message): INVALID_ARGUMENT: You must feed a value for placeholder tensor 'gradients/split_grad/concat/split/split_dim' with dtype int32\n",
      "\t [[{{node gradients/split_grad/concat/split/split_dim}}]]\n",
      "2023-06-25 10:43:24.930519: I tensorflow/core/common_runtime/executor.cc:1197] [/device:CPU:0] (DEBUG INFO) Executor start aborting (this does not indicate an error and you can ignore this message): INVALID_ARGUMENT: You must feed a value for placeholder tensor 'gradients/split_1_grad/concat/split_1/split_dim' with dtype int32\n",
      "\t [[{{node gradients/split_1_grad/concat/split_1/split_dim}}]]\n",
      "2023-06-25 10:43:25.262924: I tensorflow/core/common_runtime/executor.cc:1197] [/device:CPU:0] (DEBUG INFO) Executor start aborting (this does not indicate an error and you can ignore this message): INVALID_ARGUMENT: You must feed a value for placeholder tensor 'gradients/split_2_grad/concat/split_2/split_dim' with dtype int32\n",
      "\t [[{{node gradients/split_2_grad/concat/split_2/split_dim}}]]\n",
      "2023-06-25 10:43:25.265004: I tensorflow/core/common_runtime/executor.cc:1197] [/device:CPU:0] (DEBUG INFO) Executor start aborting (this does not indicate an error and you can ignore this message): INVALID_ARGUMENT: You must feed a value for placeholder tensor 'gradients/split_grad/concat/split/split_dim' with dtype int32\n",
      "\t [[{{node gradients/split_grad/concat/split/split_dim}}]]\n",
      "2023-06-25 10:43:25.266697: I tensorflow/core/common_runtime/executor.cc:1197] [/device:CPU:0] (DEBUG INFO) Executor start aborting (this does not indicate an error and you can ignore this message): INVALID_ARGUMENT: You must feed a value for placeholder tensor 'gradients/split_1_grad/concat/split_1/split_dim' with dtype int32\n",
      "\t [[{{node gradients/split_1_grad/concat/split_1/split_dim}}]]\n",
      "2023-06-25 10:43:27.564027: I tensorflow/core/common_runtime/executor.cc:1197] [/device:CPU:0] (DEBUG INFO) Executor start aborting (this does not indicate an error and you can ignore this message): INVALID_ARGUMENT: You must feed a value for placeholder tensor 'gradients/split_2_grad/concat/split_2/split_dim' with dtype int32\n",
      "\t [[{{node gradients/split_2_grad/concat/split_2/split_dim}}]]\n",
      "2023-06-25 10:43:27.566208: I tensorflow/core/common_runtime/executor.cc:1197] [/device:CPU:0] (DEBUG INFO) Executor start aborting (this does not indicate an error and you can ignore this message): INVALID_ARGUMENT: You must feed a value for placeholder tensor 'gradients/split_grad/concat/split/split_dim' with dtype int32\n",
      "\t [[{{node gradients/split_grad/concat/split/split_dim}}]]\n",
      "2023-06-25 10:43:27.568020: I tensorflow/core/common_runtime/executor.cc:1197] [/device:CPU:0] (DEBUG INFO) Executor start aborting (this does not indicate an error and you can ignore this message): INVALID_ARGUMENT: You must feed a value for placeholder tensor 'gradients/split_1_grad/concat/split_1/split_dim' with dtype int32\n",
      "\t [[{{node gradients/split_1_grad/concat/split_1/split_dim}}]]\n",
      "2023-06-25 10:43:27.899848: I tensorflow/core/common_runtime/executor.cc:1197] [/device:CPU:0] (DEBUG INFO) Executor start aborting (this does not indicate an error and you can ignore this message): INVALID_ARGUMENT: You must feed a value for placeholder tensor 'gradients/split_2_grad/concat/split_2/split_dim' with dtype int32\n",
      "\t [[{{node gradients/split_2_grad/concat/split_2/split_dim}}]]\n",
      "2023-06-25 10:43:27.901922: I tensorflow/core/common_runtime/executor.cc:1197] [/device:CPU:0] (DEBUG INFO) Executor start aborting (this does not indicate an error and you can ignore this message): INVALID_ARGUMENT: You must feed a value for placeholder tensor 'gradients/split_grad/concat/split/split_dim' with dtype int32\n",
      "\t [[{{node gradients/split_grad/concat/split/split_dim}}]]\n",
      "2023-06-25 10:43:27.903653: I tensorflow/core/common_runtime/executor.cc:1197] [/device:CPU:0] (DEBUG INFO) Executor start aborting (this does not indicate an error and you can ignore this message): INVALID_ARGUMENT: You must feed a value for placeholder tensor 'gradients/split_1_grad/concat/split_1/split_dim' with dtype int32\n",
      "\t [[{{node gradients/split_1_grad/concat/split_1/split_dim}}]]\n"
     ]
    },
    {
     "name": "stdout",
     "output_type": "stream",
     "text": [
      "54/54 [==============================] - ETA: 0s - loss: 0.5712 - accuracy: 0.6990"
     ]
    },
    {
     "name": "stderr",
     "output_type": "stream",
     "text": [
      "2023-06-25 10:44:09.059941: I tensorflow/core/common_runtime/executor.cc:1197] [/device:CPU:0] (DEBUG INFO) Executor start aborting (this does not indicate an error and you can ignore this message): INVALID_ARGUMENT: You must feed a value for placeholder tensor 'gradients/split_2_grad/concat/split_2/split_dim' with dtype int32\n",
      "\t [[{{node gradients/split_2_grad/concat/split_2/split_dim}}]]\n",
      "2023-06-25 10:44:09.062722: I tensorflow/core/common_runtime/executor.cc:1197] [/device:CPU:0] (DEBUG INFO) Executor start aborting (this does not indicate an error and you can ignore this message): INVALID_ARGUMENT: You must feed a value for placeholder tensor 'gradients/split_grad/concat/split/split_dim' with dtype int32\n",
      "\t [[{{node gradients/split_grad/concat/split/split_dim}}]]\n",
      "2023-06-25 10:44:09.064729: I tensorflow/core/common_runtime/executor.cc:1197] [/device:CPU:0] (DEBUG INFO) Executor start aborting (this does not indicate an error and you can ignore this message): INVALID_ARGUMENT: You must feed a value for placeholder tensor 'gradients/split_1_grad/concat/split_1/split_dim' with dtype int32\n",
      "\t [[{{node gradients/split_1_grad/concat/split_1/split_dim}}]]\n",
      "2023-06-25 10:44:09.402693: I tensorflow/core/common_runtime/executor.cc:1197] [/device:CPU:0] (DEBUG INFO) Executor start aborting (this does not indicate an error and you can ignore this message): INVALID_ARGUMENT: You must feed a value for placeholder tensor 'gradients/split_2_grad/concat/split_2/split_dim' with dtype int32\n",
      "\t [[{{node gradients/split_2_grad/concat/split_2/split_dim}}]]\n",
      "2023-06-25 10:44:09.404638: I tensorflow/core/common_runtime/executor.cc:1197] [/device:CPU:0] (DEBUG INFO) Executor start aborting (this does not indicate an error and you can ignore this message): INVALID_ARGUMENT: You must feed a value for placeholder tensor 'gradients/split_grad/concat/split/split_dim' with dtype int32\n",
      "\t [[{{node gradients/split_grad/concat/split/split_dim}}]]\n",
      "2023-06-25 10:44:09.406443: I tensorflow/core/common_runtime/executor.cc:1197] [/device:CPU:0] (DEBUG INFO) Executor start aborting (this does not indicate an error and you can ignore this message): INVALID_ARGUMENT: You must feed a value for placeholder tensor 'gradients/split_1_grad/concat/split_1/split_dim' with dtype int32\n",
      "\t [[{{node gradients/split_1_grad/concat/split_1/split_dim}}]]\n"
     ]
    },
    {
     "name": "stdout",
     "output_type": "stream",
     "text": [
      "\n",
      "Epoch 1: val_accuracy improved from -inf to 0.79659, saving model to best_model.h5\n",
      "54/54 [==============================] - 47s 760ms/step - loss: 0.5712 - accuracy: 0.6990 - val_loss: 0.4447 - val_accuracy: 0.7966\n",
      "Epoch 2/15\n",
      "54/54 [==============================] - ETA: 0s - loss: 0.3333 - accuracy: 0.8641\n",
      "Epoch 2: val_accuracy did not improve from 0.79659\n",
      "54/54 [==============================] - 41s 752ms/step - loss: 0.3333 - accuracy: 0.8641 - val_loss: 0.4614 - val_accuracy: 0.7717\n",
      "Epoch 3/15\n",
      "54/54 [==============================] - ETA: 0s - loss: 0.2291 - accuracy: 0.9127\n",
      "Epoch 3: val_accuracy did not improve from 0.79659\n",
      "54/54 [==============================] - 42s 784ms/step - loss: 0.2291 - accuracy: 0.9127 - val_loss: 0.5352 - val_accuracy: 0.7677\n",
      "Epoch 4/15\n",
      "54/54 [==============================] - ETA: 0s - loss: 0.1704 - accuracy: 0.9375\n",
      "Epoch 4: val_accuracy did not improve from 0.79659\n",
      "54/54 [==============================] - 45s 825ms/step - loss: 0.1704 - accuracy: 0.9375 - val_loss: 0.6810 - val_accuracy: 0.7493\n",
      "Epoch 5/15\n",
      "54/54 [==============================] - ETA: 0s - loss: 0.1392 - accuracy: 0.9508\n",
      "Epoch 5: val_accuracy did not improve from 0.79659\n",
      "54/54 [==============================] - 45s 840ms/step - loss: 0.1392 - accuracy: 0.9508 - val_loss: 0.6794 - val_accuracy: 0.7428\n",
      "Epoch 6/15\n",
      "54/54 [==============================] - ETA: 0s - loss: 0.1115 - accuracy: 0.9603\n",
      "Epoch 6: val_accuracy did not improve from 0.79659\n",
      "54/54 [==============================] - 45s 829ms/step - loss: 0.1115 - accuracy: 0.9603 - val_loss: 0.7507 - val_accuracy: 0.7598\n",
      "Epoch 7/15\n",
      "54/54 [==============================] - ETA: 0s - loss: 0.0996 - accuracy: 0.9661\n",
      "Epoch 7: val_accuracy did not improve from 0.79659\n",
      "54/54 [==============================] - 44s 825ms/step - loss: 0.0996 - accuracy: 0.9661 - val_loss: 0.8758 - val_accuracy: 0.7493\n",
      "Epoch 8/15\n",
      "54/54 [==============================] - ETA: 0s - loss: 0.0871 - accuracy: 0.9699\n",
      "Epoch 8: val_accuracy did not improve from 0.79659\n",
      "54/54 [==============================] - 46s 845ms/step - loss: 0.0871 - accuracy: 0.9699 - val_loss: 0.8694 - val_accuracy: 0.7493\n",
      "Epoch 9/15\n",
      "54/54 [==============================] - ETA: 0s - loss: 0.0803 - accuracy: 0.9714\n",
      "Epoch 9: val_accuracy did not improve from 0.79659\n",
      "54/54 [==============================] - 45s 838ms/step - loss: 0.0803 - accuracy: 0.9714 - val_loss: 0.9363 - val_accuracy: 0.7638\n",
      "Epoch 10/15\n",
      "54/54 [==============================] - ETA: 0s - loss: 0.0996 - accuracy: 0.9712\n",
      "Epoch 10: val_accuracy did not improve from 0.79659\n",
      "54/54 [==============================] - 46s 849ms/step - loss: 0.0996 - accuracy: 0.9712 - val_loss: 0.8893 - val_accuracy: 0.7520\n",
      "Epoch 11/15\n",
      "54/54 [==============================] - ETA: 0s - loss: 0.1108 - accuracy: 0.9602\n",
      "Epoch 11: val_accuracy did not improve from 0.79659\n",
      "54/54 [==============================] - 48s 884ms/step - loss: 0.1108 - accuracy: 0.9602 - val_loss: 0.9418 - val_accuracy: 0.7467\n",
      "Epoch 12/15\n",
      "54/54 [==============================] - ETA: 0s - loss: 0.0770 - accuracy: 0.9717\n",
      "Epoch 12: val_accuracy did not improve from 0.79659\n",
      "54/54 [==============================] - 47s 863ms/step - loss: 0.0770 - accuracy: 0.9717 - val_loss: 0.9668 - val_accuracy: 0.7507\n",
      "Epoch 13/15\n",
      "54/54 [==============================] - ETA: 0s - loss: 0.0694 - accuracy: 0.9749\n",
      "Epoch 13: val_accuracy did not improve from 0.79659\n",
      "54/54 [==============================] - 44s 811ms/step - loss: 0.0694 - accuracy: 0.9749 - val_loss: 1.0189 - val_accuracy: 0.7270\n",
      "Epoch 14/15\n",
      "54/54 [==============================] - ETA: 0s - loss: 0.0601 - accuracy: 0.9752\n",
      "Epoch 14: val_accuracy did not improve from 0.79659\n",
      "54/54 [==============================] - 45s 835ms/step - loss: 0.0601 - accuracy: 0.9752 - val_loss: 1.1686 - val_accuracy: 0.7493\n",
      "Epoch 15/15\n",
      "54/54 [==============================] - ETA: 0s - loss: 0.0554 - accuracy: 0.9769\n",
      "Epoch 15: val_accuracy did not improve from 0.79659\n",
      "54/54 [==============================] - 48s 884ms/step - loss: 0.0554 - accuracy: 0.9769 - val_loss: 1.1683 - val_accuracy: 0.7520\n"
     ]
    }
   ],
   "source": [
    "\n",
    "history = model.fit(X_train,y_train, epochs=15,batch_size=128,validation_split=0.1,callbacks=[checkpoint_callback])"
   ]
  },
  {
   "cell_type": "code",
   "execution_count": 283,
   "metadata": {},
   "outputs": [
    {
     "data": {
      "image/png": "[encoded data removed]",
      "text/plain": [
       "<Figure size 640x480 with 1 Axes>"
      ]
     },
     "metadata": {},
     "output_type": "display_data"
    }
   ],
   "source": [
    "# Plot the training and validation accuracy and loss for each epoch\n",
    "import matplotlib.pyplot as plt\n",
    "\n",
    "plt.plot(history.history['accuracy'])\n",
    "plt.plot(history.history['val_accuracy'])\n",
    "plt.title('Model Accuracy')\n",
    "plt.ylabel('Accuracy')\n",
    "plt.xlabel('Epochs')\n",
    "plt.legend(['train', 'val'], loc='upper left')\n",
    "plt.show()\n"
   ]
  },
  {
   "cell_type": "code",
   "execution_count": 284,
   "metadata": {},
   "outputs": [
    {
     "data": {
      "image/png": "[encoded data removed]",
      "text/plain": [
       "<Figure size 640x480 with 1 Axes>"
      ]
     },
     "metadata": {},
     "output_type": "display_data"
    }
   ],
   "source": [
    "# Plot the trainng and validation loss for each epoch\n",
    "plt.plot(history.history['loss'])\n",
    "plt.plot(history.history['val_loss'])\n",
    "plt.title('Model Loss')\n",
    "plt.ylabel('Loss')\n",
    "plt.xlabel('Epochs')\n",
    "plt.legend(['train', 'val'], loc='upper left')\n",
    "\n",
    "plt.show()"
   ]
  },
  {
   "cell_type": "code",
   "execution_count": 285,
   "metadata": {},
   "outputs": [
    {
     "name": "stderr",
     "output_type": "stream",
     "text": [
      "2023-06-25 10:54:40.950368: I tensorflow/core/common_runtime/executor.cc:1197] [/device:CPU:0] (DEBUG INFO) Executor start aborting (this does not indicate an error and you can ignore this message): INVALID_ARGUMENT: You must feed a value for placeholder tensor 'gradients/split_2_grad/concat/split_2/split_dim' with dtype int32\n",
      "\t [[{{node gradients/split_2_grad/concat/split_2/split_dim}}]]\n",
      "2023-06-25 10:54:40.952792: I tensorflow/core/common_runtime/executor.cc:1197] [/device:CPU:0] (DEBUG INFO) Executor start aborting (this does not indicate an error and you can ignore this message): INVALID_ARGUMENT: You must feed a value for placeholder tensor 'gradients/split_grad/concat/split/split_dim' with dtype int32\n",
      "\t [[{{node gradients/split_grad/concat/split/split_dim}}]]\n",
      "2023-06-25 10:54:40.954957: I tensorflow/core/common_runtime/executor.cc:1197] [/device:CPU:0] (DEBUG INFO) Executor start aborting (this does not indicate an error and you can ignore this message): INVALID_ARGUMENT: You must feed a value for placeholder tensor 'gradients/split_1_grad/concat/split_1/split_dim' with dtype int32\n",
      "\t [[{{node gradients/split_1_grad/concat/split_1/split_dim}}]]\n",
      "2023-06-25 10:54:41.289633: I tensorflow/core/common_runtime/executor.cc:1197] [/device:CPU:0] (DEBUG INFO) Executor start aborting (this does not indicate an error and you can ignore this message): INVALID_ARGUMENT: You must feed a value for placeholder tensor 'gradients/split_2_grad/concat/split_2/split_dim' with dtype int32\n",
      "\t [[{{node gradients/split_2_grad/concat/split_2/split_dim}}]]\n",
      "2023-06-25 10:54:41.291614: I tensorflow/core/common_runtime/executor.cc:1197] [/device:CPU:0] (DEBUG INFO) Executor start aborting (this does not indicate an error and you can ignore this message): INVALID_ARGUMENT: You must feed a value for placeholder tensor 'gradients/split_grad/concat/split/split_dim' with dtype int32\n",
      "\t [[{{node gradients/split_grad/concat/split/split_dim}}]]\n",
      "2023-06-25 10:54:41.293933: I tensorflow/core/common_runtime/executor.cc:1197] [/device:CPU:0] (DEBUG INFO) Executor start aborting (this does not indicate an error and you can ignore this message): INVALID_ARGUMENT: You must feed a value for placeholder tensor 'gradients/split_1_grad/concat/split_1/split_dim' with dtype int32\n",
      "\t [[{{node gradients/split_1_grad/concat/split_1/split_dim}}]]\n"
     ]
    },
    {
     "name": "stdout",
     "output_type": "stream",
     "text": [
      "102/102 [==============================] - 8s 66ms/step\n"
     ]
    }
   ],
   "source": [
    "submission = pd.read_csv('sample_submission.csv')\n",
    "model.load_weights(model_save_path)\n",
    "res = model.predict(X_test)\n"
   ]
  },
  {
   "cell_type": "code",
   "execution_count": 287,
   "metadata": {},
   "outputs": [],
   "source": [
    "from keras.backend import round as rnd\n",
    "submission['target'] = np.asarray(rnd(res)).astype('int32')\n",
    "submission.to_csv(\"submission.csv\", index=False)"
   ]
  },
  {
   "attachments": {},
   "cell_type": "markdown",
   "metadata": {},
   "source": [
    "**Results and Analysis (35 pts)**\n",
    "\n",
    "Run hyperparameter tuning, try different architectures for comparison, apply techniques to improve training or performance, and discuss what helped.\n",
    "\n",
    "Includes results with tables and figures. There is an analysis of why or why not something worked well, troubleshooting, and a hyperparameter optimization procedure summary."
   ]
  },
  {
   "attachments": {},
   "cell_type": "markdown",
   "metadata": {},
   "source": [
    "We will now perform hyperparameter optimiztion using grid search for a Keras model. Hyperparameters are configuration settings that are not learned from the data but instead need to be specified by the user. They can significantly affect the performance and generalization of a machine learning model.\n",
    "\n",
    "We will  explore different combinations of hyperparameters for the Keras model and evaluate their performance using cross-validation. By doing so, we seek to identify the set of hyperparameters that yields the best performance on the given task.\n",
    "\n",
    "Here's an overview of the main steps and intentions of the code:\n",
    "\n",
    "- Define a function (create_model) to create a Keras model with configurable hyperparameters. This function serves as the blueprint for creating different model instances.\n",
    "- Create an instance of KerasClassifier (model1) that wraps the create_model function. This allows the model to be treated as an estimator compatible with scikit-learn's grid search capabilities.\n",
    "- Specify a grid of hyperparameters to search over, including the optimizer and dropout rate. This grid is defined in the param_grid dictionary.\n",
    "- Instantiate a GridSearchCV object (grid) that performs the grid search, using the model1 estimator and the specified hyperparameter grid.\n",
    "- Fit the grid object on the training data, which triggers the grid search process. The model is trained and evaluated for each combination of hyperparameters using cross-validation.\n",
    "- Obtain the results and information about the best performing model from the grid_result object. This includes the best hyperparameters found and the corresponding evaluation scores.\n",
    "\n",
    "The ultimate intention of the code is to identify the best hyperparameters for the Keras model, which can help improve its performance and generalization on the given task. By systematically searching and evaluating different combinations of hyperparameters, the code aims to find the optimal configuration for the model."
   ]
  },
  {
   "cell_type": "code",
   "execution_count": 288,
   "metadata": {},
   "outputs": [
    {
     "name": "stdout",
     "output_type": "stream",
     "text": [
      "Epoch 1/10\n",
      "Epoch 1/10\n",
      "Epoch 1/10\n",
      "Epoch 1/10\n",
      "Epoch 1/10\n",
      "Epoch 1/10\n",
      "40/40 [==============================] - 95s 2s/step - loss: 0.6884 - accuracy: 0.5799\n",
      "Epoch 2/10\n",
      "40/40 [==============================] - 105s 2s/step - loss: 0.6921 - accuracy: 0.5287\n",
      "Epoch 2/10\n",
      "40/40 [==============================] - 109s 3s/step - loss: 0.6883 - accuracy: 0.5790\n",
      "Epoch 2/10\n",
      "40/40 [==============================] - 111s 3s/step - loss: 0.6696 - accuracy: 0.5724\n",
      "Epoch 2/10\n",
      "40/40 [==============================] - 114s 3s/step - loss: 0.6639 - accuracy: 0.5965\n",
      "Epoch 2/10\n",
      "40/40 [==============================] - 114s 3s/step - loss: 0.6732 - accuracy: 0.5825\n",
      "Epoch 2/10\n",
      "40/40 [==============================] - 108s 3s/step - loss: 0.6831 - accuracy: 0.5801\n",
      "Epoch 3/10\n",
      "40/40 [==============================] - 110s 3s/step - loss: 0.6896 - accuracy: 0.5494\n",
      "Epoch 3/10\n",
      "40/40 [==============================] - 111s 3s/step - loss: 0.6827 - accuracy: 0.5816\n",
      "Epoch 3/10\n",
      "40/40 [==============================] - 117s 3s/step - loss: 0.5821 - accuracy: 0.6938\n",
      "Epoch 3/10\n",
      "40/40 [==============================] - 124s 3s/step - loss: 0.6217 - accuracy: 0.6673\n",
      "Epoch 3/10\n",
      "40/40 [==============================] - 131s 3s/step - loss: 0.5363 - accuracy: 0.7383\n",
      "Epoch 3/10\n",
      "40/40 [==============================] - 103s 3s/step - loss: 0.6810 - accuracy: 0.5801\n",
      "Epoch 4/10\n",
      "40/40 [==============================] - 93s 2s/step - loss: 0.6887 - accuracy: 0.5494\n",
      "Epoch 4/10\n",
      "40/40 [==============================] - 109s 3s/step - loss: 0.6805 - accuracy: 0.5816\n",
      "Epoch 4/10\n",
      "40/40 [==============================] - 124s 3s/step - loss: 0.4174 - accuracy: 0.8203\n",
      "Epoch 4/10\n",
      "40/40 [==============================] - 114s 3s/step - loss: 0.4547 - accuracy: 0.8010\n",
      "Epoch 4/10\n",
      "40/40 [==============================] - 116s 3s/step - loss: 0.3638 - accuracy: 0.8483\n",
      "Epoch 4/10\n",
      "40/40 [==============================] - 92s 2s/step - loss: 0.6802 - accuracy: 0.5801\n",
      "Epoch 5/10\n",
      "40/40 [==============================] - 102s 3s/step - loss: 0.6884 - accuracy: 0.5494\n",
      "Epoch 5/10\n",
      "40/40 [==============================] - 104s 3s/step - loss: 0.6797 - accuracy: 0.5816\n",
      "Epoch 5/10\n",
      "40/40 [==============================] - 116s 3s/step - loss: 0.3379 - accuracy: 0.8609\n",
      "Epoch 5/10\n",
      "40/40 [==============================] - 119s 3s/step - loss: 0.3419 - accuracy: 0.8625\n",
      "Epoch 5/10\n",
      "40/40 [==============================] - 125s 3s/step - loss: 0.2864 - accuracy: 0.8830\n",
      "Epoch 5/10\n",
      "40/40 [==============================] - 92s 2s/step - loss: 0.6797 - accuracy: 0.5801\n",
      "Epoch 6/10\n",
      "40/40 [==============================] - 103s 3s/step - loss: 0.6881 - accuracy: 0.5494\n",
      "Epoch 6/10\n",
      "40/40 [==============================] - 108s 3s/step - loss: 0.6793 - accuracy: 0.5816\n",
      "Epoch 6/10\n",
      "40/40 [==============================] - 96s 2s/step - loss: 0.6796 - accuracy: 0.5801\n",
      "Epoch 7/10\n",
      "40/40 [==============================] - 123s 3s/step - loss: 0.2775 - accuracy: 0.8944\n",
      "Epoch 6/10\n",
      "40/40 [==============================] - 131s 3s/step - loss: 0.2783 - accuracy: 0.8887\n",
      "Epoch 6/10\n",
      "40/40 [==============================] - 124s 3s/step - loss: 0.2293 - accuracy: 0.9113\n",
      "Epoch 6/10\n",
      "40/40 [==============================] - 106s 3s/step - loss: 0.6880 - accuracy: 0.5494\n",
      "Epoch 7/10\n",
      "40/40 [==============================] - 106s 3s/step - loss: 0.6791 - accuracy: 0.5816\n",
      "Epoch 7/10\n",
      "40/40 [==============================] - 102s 3s/step - loss: 0.6794 - accuracy: 0.5801\n",
      "Epoch 8/10\n",
      "40/40 [==============================] - 108s 3s/step - loss: 0.2427 - accuracy: 0.9090\n",
      "Epoch 7/10\n",
      "40/40 [==============================] - 120s 3s/step - loss: 0.2254 - accuracy: 0.9171\n",
      "Epoch 7/10\n",
      "40/40 [==============================] - 102s 3s/step - loss: 0.6878 - accuracy: 0.5494\n",
      "Epoch 8/10\n",
      "40/40 [==============================] - 111s 3s/step - loss: 0.1842 - accuracy: 0.9306\n",
      "Epoch 7/10\n",
      "40/40 [==============================] - 107s 3s/step - loss: 0.6790 - accuracy: 0.5816\n",
      "Epoch 8/10\n",
      "40/40 [==============================] - 97s 2s/step - loss: 0.6793 - accuracy: 0.5801\n",
      "Epoch 9/10\n",
      "40/40 [==============================] - 107s 3s/step - loss: 0.2154 - accuracy: 0.9186\n",
      "Epoch 8/10\n",
      "40/40 [==============================] - 118s 3s/step - loss: 0.1863 - accuracy: 0.9318\n",
      "Epoch 8/10\n",
      "40/40 [==============================] - 115s 3s/step - loss: 0.1534 - accuracy: 0.9456\n",
      "Epoch 8/10\n",
      "40/40 [==============================] - 119s 3s/step - loss: 0.6877 - accuracy: 0.5494\n",
      "Epoch 9/10\n",
      "40/40 [==============================] - 102s 3s/step - loss: 0.6789 - accuracy: 0.5816\n",
      "Epoch 9/10\n",
      "40/40 [==============================] - 91s 2s/step - loss: 0.6792 - accuracy: 0.5801\n",
      "Epoch 10/10\n",
      "40/40 [==============================] - 114s 3s/step - loss: 0.1857 - accuracy: 0.9304\n",
      "Epoch 9/10\n",
      "40/40 [==============================] - 115s 3s/step - loss: 0.1314 - accuracy: 0.9527\n",
      "Epoch 9/10\n",
      "40/40 [==============================] - 115s 3s/step - loss: 0.6875 - accuracy: 0.5494\n",
      "Epoch 10/10\n",
      "40/40 [==============================] - 125s 3s/step - loss: 0.1544 - accuracy: 0.9429\n",
      "Epoch 9/10\n",
      "40/40 [==============================] - 116s 3s/step - loss: 0.6788 - accuracy: 0.5816\n",
      "Epoch 10/10\n",
      "40/40 [==============================] - 96s 2s/step - loss: 0.6790 - accuracy: 0.5801\n",
      "20/20 [==============================] - 27s 710ms/step - loss: 0.6888 - accuracy: 0.5508\n",
      "23/40 [================>.............] - ETA: 42s - loss: 0.6883 - accuracy: 0.5448Epoch 1/10\n",
      "40/40 [==============================] - 103s 3s/step - loss: 0.1710 - accuracy: 0.9352\n",
      "Epoch 10/10\n",
      "40/40 [==============================] - 94s 2s/step - loss: 0.6874 - accuracy: 0.5494\n",
      "40/40 [==============================] - 89s 2s/step - loss: 0.6787 - accuracy: 0.5816\n",
      "40/40 [==============================] - 103s 3s/step - loss: 0.1325 - accuracy: 0.9523\n",
      "Epoch 10/10\n",
      "40/40 [==============================] - 112s 3s/step - loss: 0.1162 - accuracy: 0.9598\n",
      "Epoch 10/10\n",
      "20/20 [==============================] - 26s 696ms/step - loss: 0.6747 - accuracy: 0.6123\n",
      "10/20 [==============>...............] - ETA: 8s - loss: 0.6719 - accuracy: 0.6000Epoch 1/10\n",
      "20/20 [==============================] - 29s 766ms/step - loss: 0.6891 - accuracy: 0.5479\n",
      "15/40 [==========>...................] - ETA: 1:01 - loss: 0.0947 - accuracy: 0.9677Epoch 1/10\n",
      "40/40 [==============================] - 103s 3s/step - loss: 0.1557 - accuracy: 0.9409\n",
      "40/40 [==============================] - 136s 2s/step - loss: 0.5945 - accuracy: 0.6761\n",
      "Epoch 2/10\n",
      "20/20 [==============================] - 25s 792ms/step - loss: 0.8183 - accuracy: 0.6958\n",
      "40/40 [==============================] - 106s 3s/step - loss: 0.1007 - accuracy: 0.9641\n",
      "37/40 [==========================>...] - ETA: 8s - loss: 0.1146 - accuracy: 0.9626 Epoch 1/10\n",
      "40/40 [==============================] - 116s 3s/step - loss: 0.1177 - accuracy: 0.9616\n",
      "20/20 [==============================] - 33s 1s/step - loss: 1.0121 - accuracy: 0.6879\n",
      "20/20 [==============================] - 31s 1s/step - loss: 0.7236 - accuracy: 0.6973\n",
      "33/40 [=======================>......] - ETA: 16s - loss: 0.6418 - accuracy: 0.6233Epoch 1/10\n",
      "23/40 [================>.............] - ETA: 44s - loss: 0.6594 - accuracy: 0.6199Epoch 1/10\n",
      "40/40 [==============================] - 140s 2s/step - loss: 0.6236 - accuracy: 0.6430\n",
      "Epoch 2/10\n",
      "40/40 [==============================] - 99s 2s/step - loss: 0.3530 - accuracy: 0.8510\n",
      "Epoch 3/10\n",
      "40/40 [==============================] - 158s 3s/step - loss: 0.6013 - accuracy: 0.6722\n",
      "Epoch 2/10\n",
      "40/40 [==============================] - 150s 3s/step - loss: 0.6917 - accuracy: 0.5411\n",
      "Epoch 2/10\n",
      "40/40 [==============================] - 117s 3s/step - loss: 0.3333 - accuracy: 0.8634\n",
      "Epoch 3/10\n",
      "40/40 [==============================] - 153s 3s/step - loss: 0.6886 - accuracy: 0.5812\n",
      "Epoch 2/10\n",
      "40/40 [==============================] - 159s 3s/step - loss: 0.6883 - accuracy: 0.5744\n",
      "Epoch 2/10\n",
      "40/40 [==============================] - 134s 3s/step - loss: 0.2447 - accuracy: 0.9025\n",
      "Epoch 4/10\n",
      "40/40 [==============================] - 130s 3s/step - loss: 0.3421 - accuracy: 0.8619\n",
      "Epoch 3/10\n",
      "40/40 [==============================] - 124s 3s/step - loss: 0.6896 - accuracy: 0.5494\n",
      "Epoch 3/10\n",
      "40/40 [==============================] - 125s 3s/step - loss: 0.2003 - accuracy: 0.9222\n",
      "Epoch 4/10\n",
      "40/40 [==============================] - 110s 3s/step - loss: 0.6833 - accuracy: 0.5816\n",
      "Epoch 3/10\n",
      "40/40 [==============================] - 118s 3s/step - loss: 0.6827 - accuracy: 0.5801\n",
      "Epoch 3/10\n",
      "40/40 [==============================] - 133s 3s/step - loss: 0.1844 - accuracy: 0.9320\n",
      "Epoch 5/10\n",
      "40/40 [==============================] - 136s 3s/step - loss: 0.2145 - accuracy: 0.9161\n",
      "Epoch 4/10\n",
      "40/40 [==============================] - 123s 3s/step - loss: 0.6887 - accuracy: 0.5494\n",
      "Epoch 4/10\n",
      "40/40 [==============================] - 117s 3s/step - loss: 0.1316 - accuracy: 0.9525\n",
      "Epoch 5/10\n",
      "40/40 [==============================] - 116s 3s/step - loss: 0.6809 - accuracy: 0.5816\n",
      "Epoch 4/10\n",
      "40/40 [==============================] - 107s 3s/step - loss: 0.6807 - accuracy: 0.5801\n",
      "Epoch 4/10\n",
      "40/40 [==============================] - 107s 3s/step - loss: 0.1563 - accuracy: 0.9415\n",
      "Epoch 6/10\n",
      "40/40 [==============================] - 118s 3s/step - loss: 0.1401 - accuracy: 0.9470\n",
      "Epoch 5/10\n",
      "40/40 [==============================] - 107s 3s/step - loss: 0.6882 - accuracy: 0.5494\n",
      "Epoch 5/10\n",
      "40/40 [==============================] - 102s 3s/step - loss: 0.6799 - accuracy: 0.5816\n",
      "Epoch 5/10\n",
      "40/40 [==============================] - 117s 3s/step - loss: 0.0964 - accuracy: 0.9671\n",
      "Epoch 6/10\n",
      "40/40 [==============================] - 108s 3s/step - loss: 0.6799 - accuracy: 0.5801\n",
      "Epoch 5/10\n",
      "40/40 [==============================] - 105s 3s/step - loss: 0.1329 - accuracy: 0.9517\n",
      "Epoch 7/10\n",
      "40/40 [==============================] - 111s 3s/step - loss: 0.1059 - accuracy: 0.9647\n",
      "Epoch 6/10\n",
      "40/40 [==============================] - 105s 3s/step - loss: 0.6879 - accuracy: 0.5494\n",
      "Epoch 6/10\n",
      "40/40 [==============================] - 106s 3s/step - loss: 0.6794 - accuracy: 0.5816\n",
      "Epoch 6/10\n",
      "40/40 [==============================] - 104s 3s/step - loss: 0.0799 - accuracy: 0.9734\n",
      "Epoch 7/10\n",
      "40/40 [==============================] - 109s 3s/step - loss: 0.6795 - accuracy: 0.5801\n",
      "Epoch 6/10\n",
      "40/40 [==============================] - 106s 3s/step - loss: 0.1179 - accuracy: 0.9590\n",
      "Epoch 8/10\n",
      "40/40 [==============================] - 109s 3s/step - loss: 0.0871 - accuracy: 0.9716\n",
      "Epoch 7/10\n",
      "40/40 [==============================] - 115s 3s/step - loss: 0.6878 - accuracy: 0.5494\n",
      "Epoch 7/10\n",
      "40/40 [==============================] - 108s 3s/step - loss: 0.6792 - accuracy: 0.5816\n",
      "Epoch 7/10\n",
      "40/40 [==============================] - 109s 3s/step - loss: 0.0664 - accuracy: 0.9758\n",
      "Epoch 8/10\n",
      "40/40 [==============================] - 108s 3s/step - loss: 0.6792 - accuracy: 0.5801\n",
      "Epoch 7/10\n",
      "40/40 [==============================] - 104s 3s/step - loss: 0.1064 - accuracy: 0.9612\n",
      "Epoch 9/10\n",
      "40/40 [==============================] - 114s 3s/step - loss: 0.0775 - accuracy: 0.9750\n",
      "Epoch 8/10\n",
      "40/40 [==============================] - 118s 3s/step - loss: 0.6876 - accuracy: 0.5494\n",
      "Epoch 8/10\n",
      "40/40 [==============================] - 106s 3s/step - loss: 0.6790 - accuracy: 0.5816\n",
      "Epoch 8/10\n",
      "40/40 [==============================] - 108s 3s/step - loss: 0.0609 - accuracy: 0.9787\n",
      "Epoch 9/10\n",
      "40/40 [==============================] - 106s 3s/step - loss: 0.6791 - accuracy: 0.5801\n",
      "Epoch 8/10\n",
      "40/40 [==============================] - 110s 3s/step - loss: 0.1020 - accuracy: 0.9659\n",
      "Epoch 10/10\n",
      "40/40 [==============================] - 108s 3s/step - loss: 0.0733 - accuracy: 0.9746\n",
      "Epoch 9/10\n",
      "40/40 [==============================] - 111s 3s/step - loss: 0.6875 - accuracy: 0.5494\n",
      "Epoch 9/10\n",
      "40/40 [==============================] - 107s 3s/step - loss: 0.6789 - accuracy: 0.5816\n",
      "Epoch 9/10\n",
      "40/40 [==============================] - 103s 3s/step - loss: 0.0526 - accuracy: 0.9815\n",
      "Epoch 10/10\n",
      "40/40 [==============================] - 112s 3s/step - loss: 0.6789 - accuracy: 0.5801\n",
      "Epoch 9/10\n",
      "40/40 [==============================] - 111s 3s/step - loss: 0.0915 - accuracy: 0.9669\n",
      "20/20 [==============================] - 29s 854ms/step - loss: 1.0404 - accuracy: 0.6974\n",
      "26/40 [==================>...........] - ETA: 37s - loss: 0.6889 - accuracy: 0.5427Epoch 1/10\n",
      "40/40 [==============================] - 111s 3s/step - loss: 0.0655 - accuracy: 0.9781\n",
      "Epoch 10/10\n",
      "40/40 [==============================] - 94s 2s/step - loss: 0.6788 - accuracy: 0.5816\n",
      "Epoch 10/10\n",
      "40/40 [==============================] - 104s 3s/step - loss: 0.6874 - accuracy: 0.5494\n",
      "Epoch 10/10\n",
      "40/40 [==============================] - 102s 3s/step - loss: 0.0533 - accuracy: 0.9817\n",
      "40/40 [==============================] - 98s 2s/step - loss: 0.6787 - accuracy: 0.5801\n",
      "Epoch 10/10\n",
      "20/20 [==============================] - 23s 742ms/step - loss: 1.1241 - accuracy: 0.6946\n",
      " 6/40 [===>..........................] - ETA: 1:30 - loss: 0.6896 - accuracy: 0.5352Epoch 1/10\n",
      "40/40 [==============================] - 89s 2s/step - loss: 0.0641 - accuracy: 0.9797\n",
      "40/40 [==============================] - 88s 2s/step - loss: 0.6787 - accuracy: 0.5816\n",
      "20/20 [==============================] - 23s 681ms/step - loss: 1.0935 - accuracy: 0.6866\n",
      " 2/40 [>.............................] - ETA: 1:05 - loss: 0.6870 - accuracy: 0.5859 Epoch 1/10\n",
      "40/40 [==============================] - 87s 2s/step - loss: 0.6873 - accuracy: 0.5494\n",
      "20/20 [==============================] - 22s 646ms/step - loss: 0.6893 - accuracy: 0.5479\n",
      "11/20 [===============>..............] - ETA: 7s - loss: 0.6711 - accuracy: 0.6314Epoch 1/10\n",
      "40/40 [==============================] - 100s 2s/step - loss: 0.6786 - accuracy: 0.5801\n",
      "40/40 [==============================] - 143s 2s/step - loss: 0.6696 - accuracy: 0.5762\n",
      "Epoch 2/10\n",
      "20/20 [==============================] - 24s 732ms/step - loss: 0.6748 - accuracy: 0.6123\n",
      " 1/20 [>.............................] - ETA: 2:07 - loss: 0.6179 - accuracy: 0.7656Epoch 1/10\n",
      "20/20 [==============================] - 17s 554ms/step - loss: 0.6882 - accuracy: 0.5508\n",
      "27/40 [===================>..........] - ETA: 21s - loss: 0.6722 - accuracy: 0.5868 Epoch 1/10\n",
      "40/40 [==============================] - 119s 2s/step - loss: 0.6663 - accuracy: 0.5919\n",
      "Epoch 2/10\n",
      "40/40 [==============================] - 90s 2s/step - loss: 0.5544 - accuracy: 0.7220\n",
      "Epoch 3/10\n",
      "40/40 [==============================] - 129s 2s/step - loss: 0.6729 - accuracy: 0.5798\n",
      "Epoch 2/10\n",
      "40/40 [==============================] - 120s 2s/step - loss: 0.6270 - accuracy: 0.6457\n",
      "Epoch 2/10\n",
      "40/40 [==============================] - 141s 3s/step - loss: 0.5943 - accuracy: 0.6767\n",
      "Epoch 2/10\n",
      "40/40 [==============================] - 106s 3s/step - loss: 0.5702 - accuracy: 0.7196\n",
      "Epoch 3/10\n",
      "40/40 [==============================] - 149s 3s/step - loss: 0.6203 - accuracy: 0.6537\n",
      "Epoch 2/10\n",
      "40/40 [==============================] - 114s 3s/step - loss: 0.3994 - accuracy: 0.8250\n",
      "Epoch 4/10\n",
      "40/40 [==============================] - 106s 3s/step - loss: 0.6196 - accuracy: 0.6688\n",
      "Epoch 3/10\n",
      "40/40 [==============================] - 97s 2s/step - loss: 0.3667 - accuracy: 0.8410\n",
      "Epoch 3/10\n",
      "40/40 [==============================] - 116s 3s/step - loss: 0.3836 - accuracy: 0.8368\n",
      "Epoch 4/10\n",
      "40/40 [==============================] - 126s 3s/step - loss: 0.3169 - accuracy: 0.8690\n",
      "Epoch 3/10\n",
      "40/40 [==============================] - 114s 3s/step - loss: 0.3525 - accuracy: 0.8576\n",
      "Epoch 3/10\n",
      "40/40 [==============================] - 119s 3s/step - loss: 0.3245 - accuracy: 0.8662\n",
      "Epoch 5/10\n",
      "40/40 [==============================] - 110s 3s/step - loss: 0.2527 - accuracy: 0.9042\n",
      "Epoch 4/10\n",
      "40/40 [==============================] - 117s 3s/step - loss: 0.4471 - accuracy: 0.8042\n",
      "Epoch 4/10\n",
      "40/40 [==============================] - 107s 3s/step - loss: 0.2977 - accuracy: 0.8786\n",
      "Epoch 5/10\n",
      "40/40 [==============================] - 117s 3s/step - loss: 0.1903 - accuracy: 0.9257\n",
      "Epoch 4/10\n",
      "40/40 [==============================] - 112s 3s/step - loss: 0.2116 - accuracy: 0.9157\n",
      "Epoch 4/10\n",
      "40/40 [==============================] - 109s 3s/step - loss: 0.1957 - accuracy: 0.9245\n",
      "Epoch 5/10\n",
      "40/40 [==============================] - 108s 3s/step - loss: 0.3415 - accuracy: 0.8587\n",
      "Epoch 5/10\n",
      "40/40 [==============================] - 118s 3s/step - loss: 0.2739 - accuracy: 0.8916\n",
      "Epoch 6/10\n",
      "40/40 [==============================] - 109s 3s/step - loss: 0.2343 - accuracy: 0.9068\n",
      "Epoch 6/10\n",
      "40/40 [==============================] - 108s 3s/step - loss: 0.1419 - accuracy: 0.9502\n",
      "Epoch 5/10\n",
      "40/40 [==============================] - 128s 3s/step - loss: 0.1267 - accuracy: 0.9570\n",
      "Epoch 5/10\n",
      "40/40 [==============================] - 106s 3s/step - loss: 0.1547 - accuracy: 0.9433\n",
      "Epoch 6/10\n",
      "40/40 [==============================] - 104s 3s/step - loss: 0.2811 - accuracy: 0.8909\n",
      "Epoch 6/10\n",
      "40/40 [==============================] - 122s 3s/step - loss: 0.2383 - accuracy: 0.9111\n",
      "Epoch 7/10\n",
      "40/40 [==============================] - 107s 3s/step - loss: 0.1923 - accuracy: 0.9257\n",
      "Epoch 7/10\n",
      "40/40 [==============================] - 104s 3s/step - loss: 0.1106 - accuracy: 0.9598\n",
      "Epoch 6/10\n",
      "40/40 [==============================] - 116s 3s/step - loss: 0.0913 - accuracy: 0.9685\n",
      "Epoch 6/10\n",
      "40/40 [==============================] - 101s 3s/step - loss: 0.1334 - accuracy: 0.9513\n",
      "Epoch 7/10\n",
      "40/40 [==============================] - 111s 3s/step - loss: 0.2249 - accuracy: 0.9135\n",
      "Epoch 7/10\n",
      "40/40 [==============================] - 117s 3s/step - loss: 0.2067 - accuracy: 0.9224\n",
      "Epoch 8/10\n",
      "40/40 [==============================] - 103s 3s/step - loss: 0.1616 - accuracy: 0.9409\n",
      "Epoch 8/10\n",
      "40/40 [==============================] - 111s 3s/step - loss: 0.0912 - accuracy: 0.9720\n",
      "Epoch 7/10\n",
      "40/40 [==============================] - 103s 3s/step - loss: 0.0866 - accuracy: 0.9710\n",
      "Epoch 7/10\n",
      "40/40 [==============================] - 102s 3s/step - loss: 0.1188 - accuracy: 0.9578\n",
      "Epoch 8/10\n",
      "40/40 [==============================] - 112s 3s/step - loss: 0.1934 - accuracy: 0.9283\n",
      "Epoch 8/10\n",
      "40/40 [==============================] - 105s 3s/step - loss: 0.1391 - accuracy: 0.9492\n",
      "Epoch 9/10\n",
      "40/40 [==============================] - 116s 3s/step - loss: 0.1849 - accuracy: 0.9300\n",
      "Epoch 9/10\n",
      "40/40 [==============================] - 113s 3s/step - loss: 0.0805 - accuracy: 0.9732\n",
      "Epoch 8/10\n",
      "40/40 [==============================] - 103s 3s/step - loss: 0.1041 - accuracy: 0.9598\n",
      "Epoch 9/10\n",
      "40/40 [==============================] - 111s 3s/step - loss: 0.0631 - accuracy: 0.9793\n",
      "Epoch 8/10\n",
      "40/40 [==============================] - 110s 3s/step - loss: 0.1581 - accuracy: 0.9401\n",
      "Epoch 9/10\n",
      "40/40 [==============================] - 102s 3s/step - loss: 0.1161 - accuracy: 0.9594\n",
      "Epoch 10/10\n",
      "40/40 [==============================] - 110s 3s/step - loss: 0.1670 - accuracy: 0.9373\n",
      "Epoch 10/10\n",
      "40/40 [==============================] - 104s 3s/step - loss: 0.0708 - accuracy: 0.9748\n",
      "Epoch 9/10\n",
      "40/40 [==============================] - 102s 3s/step - loss: 0.0985 - accuracy: 0.9630\n",
      "Epoch 10/10\n",
      "40/40 [==============================] - 113s 3s/step - loss: 0.0623 - accuracy: 0.9785\n",
      "Epoch 9/10\n",
      "40/40 [==============================] - 105s 3s/step - loss: 0.1330 - accuracy: 0.9509\n",
      "Epoch 10/10\n",
      "40/40 [==============================] - 106s 3s/step - loss: 0.1072 - accuracy: 0.9600\n",
      "40/40 [==============================] - 117s 3s/step - loss: 0.1580 - accuracy: 0.9423\n",
      "20/20 [==============================] - 28s 810ms/step - loss: 0.9283 - accuracy: 0.7096\n",
      "40/40 [==============================] - 105s 3s/step - loss: 0.0658 - accuracy: 0.9766\n",
      "Epoch 10/10\n",
      "20/20 [==============================] - 23s 601ms/step - loss: 0.9152 - accuracy: 0.6572\n",
      "40/40 [==============================] - 101s 3s/step - loss: 0.0942 - accuracy: 0.9671\n",
      "40/40 [==============================] - 100s 3s/step - loss: 0.0545 - accuracy: 0.9809\n",
      "Epoch 10/10\n",
      "20/20 [==============================] - 23s 844ms/step - loss: 1.0466 - accuracy: 0.6868\n",
      "40/40 [==============================] - 94s 2s/step - loss: 0.1180 - accuracy: 0.9598\n",
      "20/20 [==============================] - 13s 499ms/step - loss: 0.8748 - accuracy: 0.7063\n",
      "40/40 [==============================] - 62s 2s/step - loss: 0.0615 - accuracy: 0.9785\n",
      "40/40 [==============================] - 52s 1s/step - loss: 0.0495 - accuracy: 0.9821\n",
      "20/20 [==============================] - 11s 484ms/step - loss: 1.0089 - accuracy: 0.7036\n",
      "20/20 [==============================] - 10s 430ms/step - loss: 1.1852 - accuracy: 0.6840\n"
     ]
    },
    {
     "name": "stderr",
     "output_type": "stream",
     "text": [
      "2023-06-25 12:06:17.560983: I tensorflow/core/common_runtime/executor.cc:1197] [/device:CPU:0] (DEBUG INFO) Executor start aborting (this does not indicate an error and you can ignore this message): INVALID_ARGUMENT: You must feed a value for placeholder tensor 'gradients/split_2_grad/concat/split_2/split_dim' with dtype int32\n",
      "\t [[{{node gradients/split_2_grad/concat/split_2/split_dim}}]]\n",
      "2023-06-25 12:06:17.562402: I tensorflow/core/common_runtime/executor.cc:1197] [/device:CPU:0] (DEBUG INFO) Executor start aborting (this does not indicate an error and you can ignore this message): INVALID_ARGUMENT: You must feed a value for placeholder tensor 'gradients/split_grad/concat/split/split_dim' with dtype int32\n",
      "\t [[{{node gradients/split_grad/concat/split/split_dim}}]]\n",
      "2023-06-25 12:06:17.564097: I tensorflow/core/common_runtime/executor.cc:1197] [/device:CPU:0] (DEBUG INFO) Executor start aborting (this does not indicate an error and you can ignore this message): INVALID_ARGUMENT: You must feed a value for placeholder tensor 'gradients/split_1_grad/concat/split_1/split_dim' with dtype int32\n",
      "\t [[{{node gradients/split_1_grad/concat/split_1/split_dim}}]]\n"
     ]
    },
    {
     "name": "stdout",
     "output_type": "stream",
     "text": [
      "Epoch 1/10\n"
     ]
    },
    {
     "name": "stderr",
     "output_type": "stream",
     "text": [
      "2023-06-25 12:06:17.850074: I tensorflow/core/common_runtime/executor.cc:1197] [/device:CPU:0] (DEBUG INFO) Executor start aborting (this does not indicate an error and you can ignore this message): INVALID_ARGUMENT: You must feed a value for placeholder tensor 'gradients/split_2_grad/concat/split_2/split_dim' with dtype int32\n",
      "\t [[{{node gradients/split_2_grad/concat/split_2/split_dim}}]]\n",
      "2023-06-25 12:06:17.851931: I tensorflow/core/common_runtime/executor.cc:1197] [/device:CPU:0] (DEBUG INFO) Executor start aborting (this does not indicate an error and you can ignore this message): INVALID_ARGUMENT: You must feed a value for placeholder tensor 'gradients/split_grad/concat/split/split_dim' with dtype int32\n",
      "\t [[{{node gradients/split_grad/concat/split/split_dim}}]]\n",
      "2023-06-25 12:06:17.853350: I tensorflow/core/common_runtime/executor.cc:1197] [/device:CPU:0] (DEBUG INFO) Executor start aborting (this does not indicate an error and you can ignore this message): INVALID_ARGUMENT: You must feed a value for placeholder tensor 'gradients/split_1_grad/concat/split_1/split_dim' with dtype int32\n",
      "\t [[{{node gradients/split_1_grad/concat/split_1/split_dim}}]]\n",
      "2023-06-25 12:06:18.331408: I tensorflow/core/common_runtime/executor.cc:1197] [/device:CPU:0] (DEBUG INFO) Executor start aborting (this does not indicate an error and you can ignore this message): INVALID_ARGUMENT: You must feed a value for placeholder tensor 'gradients/split_2_grad/concat/split_2/split_dim' with dtype int32\n",
      "\t [[{{node gradients/split_2_grad/concat/split_2/split_dim}}]]\n",
      "2023-06-25 12:06:18.333987: I tensorflow/core/common_runtime/executor.cc:1197] [/device:CPU:0] (DEBUG INFO) Executor start aborting (this does not indicate an error and you can ignore this message): INVALID_ARGUMENT: You must feed a value for placeholder tensor 'gradients/split_grad/concat/split/split_dim' with dtype int32\n",
      "\t [[{{node gradients/split_grad/concat/split/split_dim}}]]\n",
      "2023-06-25 12:06:18.336078: I tensorflow/core/common_runtime/executor.cc:1197] [/device:CPU:0] (DEBUG INFO) Executor start aborting (this does not indicate an error and you can ignore this message): INVALID_ARGUMENT: You must feed a value for placeholder tensor 'gradients/split_1_grad/concat/split_1/split_dim' with dtype int32\n",
      "\t [[{{node gradients/split_1_grad/concat/split_1/split_dim}}]]\n",
      "2023-06-25 12:06:18.714476: I tensorflow/core/common_runtime/executor.cc:1197] [/device:CPU:0] (DEBUG INFO) Executor start aborting (this does not indicate an error and you can ignore this message): INVALID_ARGUMENT: You must feed a value for placeholder tensor 'gradients/split_2_grad/concat/split_2/split_dim' with dtype int32\n",
      "\t [[{{node gradients/split_2_grad/concat/split_2/split_dim}}]]\n",
      "2023-06-25 12:06:18.717631: I tensorflow/core/common_runtime/executor.cc:1197] [/device:CPU:0] (DEBUG INFO) Executor start aborting (this does not indicate an error and you can ignore this message): INVALID_ARGUMENT: You must feed a value for placeholder tensor 'gradients/split_grad/concat/split/split_dim' with dtype int32\n",
      "\t [[{{node gradients/split_grad/concat/split/split_dim}}]]\n",
      "2023-06-25 12:06:18.720095: I tensorflow/core/common_runtime/executor.cc:1197] [/device:CPU:0] (DEBUG INFO) Executor start aborting (this does not indicate an error and you can ignore this message): INVALID_ARGUMENT: You must feed a value for placeholder tensor 'gradients/split_1_grad/concat/split_1/split_dim' with dtype int32\n",
      "\t [[{{node gradients/split_1_grad/concat/split_1/split_dim}}]]\n",
      "2023-06-25 12:06:20.153170: I tensorflow/core/common_runtime/executor.cc:1197] [/device:CPU:0] (DEBUG INFO) Executor start aborting (this does not indicate an error and you can ignore this message): INVALID_ARGUMENT: You must feed a value for placeholder tensor 'gradients/split_2_grad/concat/split_2/split_dim' with dtype int32\n",
      "\t [[{{node gradients/split_2_grad/concat/split_2/split_dim}}]]\n",
      "2023-06-25 12:06:20.155215: I tensorflow/core/common_runtime/executor.cc:1197] [/device:CPU:0] (DEBUG INFO) Executor start aborting (this does not indicate an error and you can ignore this message): INVALID_ARGUMENT: You must feed a value for placeholder tensor 'gradients/split_grad/concat/split/split_dim' with dtype int32\n",
      "\t [[{{node gradients/split_grad/concat/split/split_dim}}]]\n",
      "2023-06-25 12:06:20.157340: I tensorflow/core/common_runtime/executor.cc:1197] [/device:CPU:0] (DEBUG INFO) Executor start aborting (this does not indicate an error and you can ignore this message): INVALID_ARGUMENT: You must feed a value for placeholder tensor 'gradients/split_1_grad/concat/split_1/split_dim' with dtype int32\n",
      "\t [[{{node gradients/split_1_grad/concat/split_1/split_dim}}]]\n",
      "2023-06-25 12:06:20.506157: I tensorflow/core/common_runtime/executor.cc:1197] [/device:CPU:0] (DEBUG INFO) Executor start aborting (this does not indicate an error and you can ignore this message): INVALID_ARGUMENT: You must feed a value for placeholder tensor 'gradients/split_2_grad/concat/split_2/split_dim' with dtype int32\n",
      "\t [[{{node gradients/split_2_grad/concat/split_2/split_dim}}]]\n",
      "2023-06-25 12:06:20.508629: I tensorflow/core/common_runtime/executor.cc:1197] [/device:CPU:0] (DEBUG INFO) Executor start aborting (this does not indicate an error and you can ignore this message): INVALID_ARGUMENT: You must feed a value for placeholder tensor 'gradients/split_grad/concat/split/split_dim' with dtype int32\n",
      "\t [[{{node gradients/split_grad/concat/split/split_dim}}]]\n",
      "2023-06-25 12:06:20.510661: I tensorflow/core/common_runtime/executor.cc:1197] [/device:CPU:0] (DEBUG INFO) Executor start aborting (this does not indicate an error and you can ignore this message): INVALID_ARGUMENT: You must feed a value for placeholder tensor 'gradients/split_1_grad/concat/split_1/split_dim' with dtype int32\n",
      "\t [[{{node gradients/split_1_grad/concat/split_1/split_dim}}]]\n"
     ]
    },
    {
     "name": "stdout",
     "output_type": "stream",
     "text": [
      "60/60 [==============================] - 41s 616ms/step - loss: 0.6609 - accuracy: 0.5981\n",
      "Epoch 2/10\n",
      "60/60 [==============================] - 39s 656ms/step - loss: 0.5054 - accuracy: 0.7654\n",
      "Epoch 3/10\n",
      "60/60 [==============================] - 40s 667ms/step - loss: 0.3679 - accuracy: 0.8451\n",
      "Epoch 4/10\n",
      "60/60 [==============================] - 39s 648ms/step - loss: 0.3063 - accuracy: 0.8757\n",
      "Epoch 5/10\n",
      "60/60 [==============================] - 40s 661ms/step - loss: 0.2643 - accuracy: 0.8961\n",
      "Epoch 6/10\n",
      "60/60 [==============================] - 40s 670ms/step - loss: 0.2301 - accuracy: 0.9119\n",
      "Epoch 7/10\n",
      "60/60 [==============================] - 40s 667ms/step - loss: 0.1996 - accuracy: 0.9237\n",
      "Epoch 8/10\n",
      "60/60 [==============================] - 39s 657ms/step - loss: 0.1803 - accuracy: 0.9331\n",
      "Epoch 9/10\n",
      "60/60 [==============================] - 40s 674ms/step - loss: 0.1588 - accuracy: 0.9397\n",
      "Epoch 10/10\n",
      "60/60 [==============================] - 40s 667ms/step - loss: 0.1402 - accuracy: 0.9497\n"
     ]
    }
   ],
   "source": [
    "# optimize hyperparameters\n",
    "from sklearn.model_selection import GridSearchCV\n",
    "from tensorflow.keras.wrappers.scikit_learn import KerasClassifier\n",
    "\n",
    "def create_model(optimizer='adam', dropout_rate=0.0):\n",
    "    model = Sequential()\n",
    "    model.add(Embedding(num_words, 100, input_length=max_review_len))\n",
    "    model.add(LSTM(256, return_sequences=True))\n",
    "    model.add(LSTM(128))\n",
    "    model.add(Dense(1, activation='sigmoid'))\n",
    "    model.compile(optimizer=optimizer, \n",
    "              loss='binary_crossentropy', \n",
    "              metrics=['accuracy'])\n",
    "    return model\n",
    "\n",
    "model = KerasClassifier(build_fn=create_model, epochs=10, batch_size=128, verbose=1)\n",
    "\n",
    "optimizer = ['SGD', 'RMSprop', 'Adam']\n",
    "dropout_rate = [0.0, 0.1]\n",
    "param_grid = dict(optimizer=optimizer, dropout_rate=dropout_rate)\n",
    "grid = GridSearchCV(estimator=model, param_grid=param_grid, n_jobs=-1, cv=3)\n",
    "grid_result = grid.fit(X_train, y_train)\n"
   ]
  },
  {
   "cell_type": "code",
   "execution_count": 289,
   "metadata": {},
   "outputs": [
    {
     "name": "stdout",
     "output_type": "stream",
     "text": [
      "Best: 0.693682 using {'dropout_rate': 0.0, 'optimizer': 'RMSprop'}\n"
     ]
    }
   ],
   "source": [
    "print(\"Best: %f using %s\" % (grid_result.best_score_, grid_result.best_params_))"
   ]
  },
  {
   "cell_type": "code",
   "execution_count": 290,
   "metadata": {},
   "outputs": [
    {
     "name": "stdout",
     "output_type": "stream",
     "text": [
      "0.570337 (0.029691) with: {'dropout_rate': 0.0, 'optimizer': 'SGD'}\n",
      "0.693682 (0.004101) with: {'dropout_rate': 0.0, 'optimizer': 'RMSprop'}\n",
      "0.692893 (0.004564) with: {'dropout_rate': 0.0, 'optimizer': 'Adam'}\n",
      "0.570337 (0.029691) with: {'dropout_rate': 0.1, 'optimizer': 'SGD'}\n",
      "0.691057 (0.023970) with: {'dropout_rate': 0.1, 'optimizer': 'RMSprop'}\n",
      "0.691450 (0.008655) with: {'dropout_rate': 0.1, 'optimizer': 'Adam'}\n"
     ]
    }
   ],
   "source": [
    "means = grid_result.cv_results_['mean_test_score']\n",
    "stds = grid_result.cv_results_['std_test_score']\n",
    "params = grid_result.cv_results_['params']\n",
    "\n",
    "\n",
    "for mean, stdev, param in zip(means, stds, params):\n",
    "    print(\"%f (%f) with: %r\" % (mean, stdev, param))\n",
    "\n",
    "\n",
    "\n"
   ]
  },
  {
   "cell_type": "code",
   "execution_count": 292,
   "metadata": {},
   "outputs": [
    {
     "data": {
      "image/png": "[encoded data removed]",
      "text/plain": [
       "<Figure size 640x480 with 1 Axes>"
      ]
     },
     "metadata": {},
     "output_type": "display_data"
    }
   ],
   "source": [
    "# Plot accuracy for gird search\n",
    "plt.plot(means)\n",
    "plt.title('Model Accuracy')\n",
    "plt.ylabel('Accuracy')\n",
    "plt.xlabel('Hyperparameters')\n",
    "plt.legend(['train', 'val'], loc='upper left')\n",
    "plt.show()\n"
   ]
  },
  {
   "cell_type": "code",
   "execution_count": 293,
   "metadata": {},
   "outputs": [
    {
     "data": {
      "image/png": "[encoded data removed]",
      "text/plain": [
       "<Figure size 640x480 with 1 Axes>"
      ]
     },
     "metadata": {},
     "output_type": "display_data"
    }
   ],
   "source": [
    "#Plot the training and validation loss for each grid search\n",
    "plt.plot(stds)\n",
    "plt.title('Model Loss')\n",
    "plt.ylabel('Loss')\n",
    "plt.xlabel('Hyperparameters')\n",
    "plt.legend(['train', 'val'], loc='upper left')\n",
    "\n",
    "plt.show()\n"
   ]
  },
  {
   "attachments": {},
   "cell_type": "markdown",
   "metadata": {},
   "source": [
    "**Conclusion (15 pts)**\n",
    "\n",
    "Discuss and interpret results as well as learnings and takeaways. What did and did not help improve the performance of your models? What improvements could you try in the future?"
   ]
  },
  {
   "attachments": {},
   "cell_type": "markdown",
   "metadata": {},
   "source": [
    "The results from gridsearch are not encouranging. The Optimizer RMSprop gives best score with drop out rate of 0.0.\n"
   ]
  }
 ],
 "metadata": {
  "kernelspec": {
   "display_name": "Python 3",
   "language": "python",
   "name": "python3"
  },
  "language_info": {
   "codemirror_mode": {
    "name": "ipython",
    "version": 3
   },
   "file_extension": ".py",
   "mimetype": "text/x-python",
   "name": "python",
   "nbconvert_exporter": "python",
   "pygments_lexer": "ipython3",
   "version": "3.11.4"
  },
  "orig_nbformat": 4
 },
 "nbformat": 4,
 "nbformat_minor": 2
}
